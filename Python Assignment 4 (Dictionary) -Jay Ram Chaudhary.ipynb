{
 "cells": [
  {
   "cell_type": "markdown",
   "metadata": {},
   "source": [
    "# Python Assignment - 4\n",
    "Dictionary"
   ]
  },
  {
   "cell_type": "markdown",
   "metadata": {},
   "source": [
    "Given a dictionary:\n",
    "car = {\"brand\": \"Ford”, “model\":\"Mustang\",\"year\":1964}\n",
    "1. Print the value of the \"model\" key of the car dictionary.\n",
    "2. Change the \"year\" value from 1964 to 2020.\n",
    "3. Add the key/value pair \"colour”: \"red\" to the car dictionary"
   ]
  },
  {
   "cell_type": "code",
   "execution_count": 11,
   "metadata": {},
   "outputs": [
    {
     "name": "stdout",
     "output_type": "stream",
     "text": [
      "The original dictionary is {'brand': 'Ford', 'model': 'Mustang', 'year': 1964}\n",
      "The value of model is Mustang\n",
      "Updated dictionary is {'brand': 'Ford', 'model': 'Mustang', 'year': 2020}\n",
      "Post adding key value pair, the resultant dictionary is  {'brand': 'Ford', 'model': 'Mustang', 'year': 2020, 'colour': 'Red'}\n"
     ]
    }
   ],
   "source": [
    "car ={\"brand\": \"Ford\",\"model\":\"Mustang\",\"year\":1964}\n",
    "print(\"The original dictionary is\",car)\n",
    "print(\"The value of model is\",car[\"model\"])\n",
    "car[\"year\"]=2020\n",
    "print(\"Updated dictionary is\",car)\n",
    "car[\"colour\"]=\"Red\"\n",
    "print(\"Post adding key value pair, the resultant dictionary is \",car)"
   ]
  },
  {
   "cell_type": "markdown",
   "metadata": {},
   "source": [
    "Given a dictionary inventory :\n",
    "inventory = {'gold' : 500, 'pouch' : ['flint', 'twine', 'gemstone'],\n",
    "'backpack' : ['xylophone’, ‘dagger', 'bedroll’, ‘bread’, ‘loaf']}\n",
    "4. Add a key to inventory called 'pocket' and Set the value of\n",
    "'pocket' to be a list consisting of the strings 'seashell', 'strange\n",
    "berry', and 'lint'.\n",
    "5. Sort the items in the list stored under the 'backpack' key.\n",
    "6. Remove 'dagger' from the list of items stored under the\n",
    "'backpack' key.\n",
    "7. Add 50 to the number stored under the 'gold' key.\n",
    "8. Write a Python script to concatenate three dictionaries to create\n",
    "a new one. Make dictionaries yourself.\n",
    "9. Write a Python program to sum all the items in a dictionary."
   ]
  },
  {
   "cell_type": "code",
   "execution_count": 57,
   "metadata": {},
   "outputs": [
    {
     "name": "stdout",
     "output_type": "stream",
     "text": [
      "Original dictionary is {'gold': 500, 'pouch': ['flint', 'twine', 'gemstone'], 'backpack': ['xylophone', 'dagger', 'bedroll', 'bread', 'loaf']}\n"
     ]
    }
   ],
   "source": [
    "inventory = {'gold' : 500, 'pouch' : ['flint', 'twine', 'gemstone'], 'backpack' : ['xylophone', 'dagger', 'bedroll', 'bread', 'loaf']}\n",
    "print(\"Original dictionary is\",inventory)\n",
    "\n",
    "\n"
   ]
  },
  {
   "cell_type": "code",
   "execution_count": 58,
   "metadata": {},
   "outputs": [
    {
     "name": "stdout",
     "output_type": "stream",
     "text": [
      "Updated dictionary is {'gold': 500, 'pouch': ['flint', 'twine', 'gemstone'], 'backpack': ['xylophone', 'dagger', 'bedroll', 'bread', 'loaf'], 'pocket': ['seashell', 'strange berry', 'lint']}\n"
     ]
    }
   ],
   "source": [
    "\n",
    "inventory['pocket']=['seashell','strange berry','lint']\n",
    "\n",
    "print(\"Updated dictionary is\",inventory)\n",
    "\n"
   ]
  },
  {
   "cell_type": "code",
   "execution_count": 59,
   "metadata": {},
   "outputs": [
    {
     "name": "stdout",
     "output_type": "stream",
     "text": [
      "['bedroll', 'bread', 'dagger', 'loaf', 'xylophone']\n"
     ]
    }
   ],
   "source": [
    "d=inventory['backpack']\n",
    "print(sorted(d))"
   ]
  },
  {
   "cell_type": "code",
   "execution_count": 34,
   "metadata": {},
   "outputs": [],
   "source": [
    "#Remove 'dagger' from the list of items stored under the 'backpack' key"
   ]
  },
  {
   "cell_type": "code",
   "execution_count": 60,
   "metadata": {},
   "outputs": [
    {
     "name": "stdout",
     "output_type": "stream",
     "text": [
      "['xylophone', 'bedroll', 'bread', 'loaf']\n"
     ]
    }
   ],
   "source": [
    "d.remove('dagger')\n",
    "print(d)"
   ]
  },
  {
   "cell_type": "code",
   "execution_count": 50,
   "metadata": {},
   "outputs": [],
   "source": [
    "# Add 50 to the number stored under the 'gold' key."
   ]
  },
  {
   "cell_type": "code",
   "execution_count": 89,
   "metadata": {},
   "outputs": [
    {
     "data": {
      "text/plain": [
       "{'gold': [500, 50]}"
      ]
     },
     "execution_count": 89,
     "metadata": {},
     "output_type": "execute_result"
    }
   ],
   "source": [
    "d=inventory['gold']\n",
    "d\n",
    "d = [500]\n",
    "d.append(50)\n",
    "d\n",
    "dict={'gold':d}\n",
    "dict\n"
   ]
  },
  {
   "cell_type": "markdown",
   "metadata": {},
   "source": [
    "# 8. Write a Python script to concatenate three dictionaries to create\n",
    "a new one. Make dictionaries yourself."
   ]
  },
  {
   "cell_type": "code",
   "execution_count": 74,
   "metadata": {},
   "outputs": [
    {
     "name": "stdout",
     "output_type": "stream",
     "text": [
      "{1: 40, 2: 10, 3: 40, 4: 60, 5: 90, 6: 60}\n"
     ]
    }
   ],
   "source": [
    "dic1={1:40, 2:10}\n",
    "dic2={3:40, 4:60}\n",
    "dic3={5:90,6:60}\n",
    "dic4 = {}\n",
    "for d in (dic1, dic2, dic3): dic4.update(d)\n",
    "print(dic4)"
   ]
  },
  {
   "cell_type": "markdown",
   "metadata": {},
   "source": [
    "9. Write a Python program to sum all the items in a dictionary."
   ]
  },
  {
   "cell_type": "code",
   "execution_count": 75,
   "metadata": {},
   "outputs": [
    {
     "name": "stdout",
     "output_type": "stream",
     "text": [
      "296\n"
     ]
    }
   ],
   "source": [
    "dict={'jay':88,'swarna':90,'gopal':78,'hari':40}\n",
    "print(sum(dict.values()))"
   ]
  },
  {
   "cell_type": "markdown",
   "metadata": {},
   "source": [
    "10. Write a Python script to check whether a given key already\n",
    "exists in a dictionary.\n",
    "d = {'foo': 100, 'bar': 200, 'baz': 300}"
   ]
  },
  {
   "cell_type": "code",
   "execution_count": 49,
   "metadata": {},
   "outputs": [
    {
     "name": "stdout",
     "output_type": "stream",
     "text": [
      "Yes, 'bar' is the keys in the dictionary\n"
     ]
    }
   ],
   "source": [
    "d = {'foo': 100, 'bar': 200, 'baz': 300}\n",
    "\n",
    "if 'bar' in d:\n",
    "    \n",
    "    print(\"Yes, 'bar' is the keys in the dictionary\")\n",
    "else:\n",
    "    print(\"No,'Bar' is not the key in the dictionary \")\n",
    "    "
   ]
  },
  {
   "cell_type": "markdown",
   "metadata": {},
   "source": [
    "11. What method call will delete the entry whose value is 200?"
   ]
  },
  {
   "cell_type": "code",
   "execution_count": 48,
   "metadata": {},
   "outputs": [
    {
     "data": {
      "text/plain": [
       "{'foo': 100, 'baz': 300}"
      ]
     },
     "execution_count": 48,
     "metadata": {},
     "output_type": "execute_result"
    }
   ],
   "source": [
    "del d['bar']\n",
    "d"
   ]
  },
  {
   "cell_type": "markdown",
   "metadata": {},
   "source": [
    "12. Write a Python program to check multiple keys exists in a\n",
    "dictionary."
   ]
  },
  {
   "cell_type": "code",
   "execution_count": 51,
   "metadata": {},
   "outputs": [
    {
     "name": "stdout",
     "output_type": "stream",
     "text": [
      "Keys are present\n",
      "keys are not present\n"
     ]
    }
   ],
   "source": [
    "d1 = {'jay':'btech','City':'Kathmandu','Proffession':'Data Scientist'}\n",
    "if all(key in d1 for key in ('jay','City','Proffession')):\n",
    "    print(\"Keys are present\")\n",
    "else:\n",
    "    print(\"keys are not present\")\n",
    "    \n",
    "if all(key in d1 for key in ('jay','City','Designation')):\n",
    "    print(\"Keys are present\")\n",
    "else:\n",
    "    print(\"keys are not present\")"
   ]
  },
  {
   "cell_type": "code",
   "execution_count": null,
   "metadata": {},
   "outputs": [],
   "source": []
  }
 ],
 "metadata": {
  "kernelspec": {
   "display_name": "Python 3",
   "language": "python",
   "name": "python3"
  },
  "language_info": {
   "codemirror_mode": {
    "name": "ipython",
    "version": 3
   },
   "file_extension": ".py",
   "mimetype": "text/x-python",
   "name": "python",
   "nbconvert_exporter": "python",
   "pygments_lexer": "ipython3",
   "version": "3.7.4"
  }
 },
 "nbformat": 4,
 "nbformat_minor": 2
}
