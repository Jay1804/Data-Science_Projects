{
 "cells": [
  {
   "cell_type": "markdown",
   "metadata": {},
   "source": [
    "1. Take two integer values from the user and print greatest\n",
    "among them."
   ]
  },
  {
   "cell_type": "code",
   "execution_count": 2,
   "metadata": {},
   "outputs": [
    {
     "name": "stdout",
     "output_type": "stream",
     "text": [
      "Enter first number1\n",
      "Enter first number5\n",
      "Num2 is the greatest and the number is 5\n"
     ]
    }
   ],
   "source": [
    "num1=int(input(\"Enter first number\"))\n",
    "num2=int(input(\"Enter first number\"))\n",
    "if num1 > num2:\n",
    "    print(\"Num1 is greatest and mumber is\",num1)\n",
    "else:\n",
    "    print(\"Num2 is the greatest and the number is\",num2)"
   ]
  },
  {
   "cell_type": "markdown",
   "metadata": {},
   "source": [
    "2. Write a program that reads an integer from the user. Then\n",
    "your program should display a message indicating\n",
    "whether the integer is even or odd."
   ]
  },
  {
   "cell_type": "code",
   "execution_count": 4,
   "metadata": {},
   "outputs": [
    {
     "name": "stdout",
     "output_type": "stream",
     "text": [
      "Enter the number21\n",
      "The number is odd\n"
     ]
    }
   ],
   "source": [
    "num=int(input(\"Enter the number\"))\n",
    "if num%2==0:\n",
    "    print(\"The number is even\")\n",
    "else:\n",
    "    print(\"The number is odd\")"
   ]
  },
  {
   "cell_type": "markdown",
   "metadata": {},
   "source": [
    "3. Create a program that reads a letter of the alphabet from\n",
    "the user. If the user enters a, e, i, o or u then your program\n",
    "should display a message indicating that the entered letter is\n",
    "a vowel. If the user enters y then your program should\n",
    "display a message indicating that sometimes y is a vowel,\n",
    "and sometimes y is a consonant. Otherwise your program\n",
    "should display a message indicating that the letter is a\n",
    "consonant."
   ]
  },
  {
   "cell_type": "code",
   "execution_count": 26,
   "metadata": {},
   "outputs": [
    {
     "name": "stdout",
     "output_type": "stream",
     "text": [
      "Input a letter of the alphabet: k\n",
      "\n",
      "k - alphabet is a consonant.\n"
     ]
    }
   ],
   "source": [
    "ch = input(\"Input a letter of the alphabet: \")\n",
    "\n",
    "if ch in ('a', 'e', 'i', 'o', 'u'):\n",
    "    print(\"\\n%s - albhabet is a vowel.\" %ch)\n",
    "    \n",
    "elif ch == 'y':\n",
    "    print(\"\\nSometimes alphabet y is vowel, sometimes y is consonant.\")\n",
    "\n",
    "else:\n",
    "    print(\"\\n%s - alphabet is a consonant.\" %ch)\n"
   ]
  },
  {
   "cell_type": "markdown",
   "metadata": {},
   "source": [
    "4. A triangle can be classified based on the lengths of its\n",
    "sides as equilateral, isosceles or scalene. All three sides of an\n",
    "equilateral triangle have the same length. An isosceles\n",
    "triangle has two sides that are the same length, and a third\n",
    "side that is a different length. If all of the sides have different\n",
    "lengths then the triangle is scalene. Write a program that\n",
    "reads the lengths of the three sides of a triangle from the user.\n",
    "Then display a message that states the triangle’s type."
   ]
  },
  {
   "cell_type": "code",
   "execution_count": 28,
   "metadata": {},
   "outputs": [
    {
     "name": "stdout",
     "output_type": "stream",
     "text": [
      "Enter the lengths of the triangle sides: \n",
      "a: 12\n",
      "b: 12\n",
      "c: 3\n",
      "Isosceles triangle\n"
     ]
    }
   ],
   "source": [
    "print(\"Enter the lengths of the triangle sides: \")\n",
    "a = int(input(\"a: \"))\n",
    "b = int(input(\"b: \"))\n",
    "c = int(input(\"c: \"))\n",
    "\n",
    "if a == b == c:\n",
    "    print(\"Equilateral triangle\")\n",
    "    \n",
    "elif a == b or b == c or c == a:\n",
    "    print(\"Isosceles triangle\")\n",
    "    \n",
    "else:\n",
    "    print(\"Scalene triangle\")"
   ]
  },
  {
   "cell_type": "markdown",
   "metadata": {},
   "source": [
    "5. Write a program that determines the name of a shape\n",
    "from its number of sides. Read the number of sides from the\n",
    "user and then report the appropriate name as part of a\n",
    "meaningful message. Your program should support shapes\n",
    "with anywhere from 3 up to (and including) 10 sides. If a\n",
    "number of sides outside of this range is entered then your\n",
    "program should display an appropriate error message."
   ]
  },
  {
   "cell_type": "code",
   "execution_count": 73,
   "metadata": {},
   "outputs": [
    {
     "name": "stdout",
     "output_type": "stream",
     "text": [
      "Number of side11\n",
      "sides enter is out of range\n"
     ]
    }
   ],
   "source": [
    "side=int(input(\"Number of side\"))\n",
    "if side < 3:\n",
    "    print(\"sides enter is out of range\")\n",
    "elif side==3:\n",
    "    print(\"triangle\")\n",
    "elif side==4:\n",
    "    print(\"Rectanle or square orrombus\")\n",
    "elif side==5:\n",
    "    print(\"Pentagon\")\n",
    "elif side==6:\n",
    "    print(\"Hexagon\")\n",
    "elif side==7:\n",
    "    print(\"Heptagon\")\n",
    "elif side==8:\n",
    "    print(\"Octagon\") \n",
    "elif side==9:\n",
    "    print(\"Nonagon\")\n",
    "elif side==10:\n",
    "    print(\"Decagon\")\n",
    "else:\n",
    "    print(\"sides enter is out of range\")\n",
    "    \n",
    "    "
   ]
  },
  {
   "cell_type": "markdown",
   "metadata": {},
   "source": [
    "6. A shop will give a discount of 10% if the cost of the\n",
    "purchased quantity is more than 1000. Ask the user for\n",
    "quantity, suppose, one unit will cost 100. Judge and print\n",
    "total cost for user."
   ]
  },
  {
   "cell_type": "code",
   "execution_count": 87,
   "metadata": {},
   "outputs": [
    {
     "name": "stdout",
     "output_type": "stream",
     "text": [
      "Enter the quantity11\n",
      "Total Price with 10% discount is 990.0\n"
     ]
    }
   ],
   "source": [
    "q=int(input(\"Enter the quantity\"))\n",
    "if q*100 > 1000:\n",
    "    tot=q*100-(q*100)*10/100\n",
    "    print(\"Total Price with 10% discount is\",tot)\n",
    "else:\n",
    "    tot=q*100\n",
    "    print(\"Total Price without discount\",tot)"
   ]
  },
  {
   "cell_type": "markdown",
   "metadata": {},
   "source": [
    "7. Take input of age of 3 people by user and determine\n",
    "oldest and youngest among them."
   ]
  },
  {
   "cell_type": "code",
   "execution_count": 105,
   "metadata": {},
   "outputs": [
    {
     "name": "stdout",
     "output_type": "stream",
     "text": [
      "12\n",
      "11\n",
      "10\n",
      "a is oldest and c is youngest\n"
     ]
    }
   ],
   "source": [
    "a=input()\n",
    "b=input()\n",
    "c=input()\n",
    "if int(a)> int(b) and int(a)>int(c):\n",
    "    if int(b)>int(c):\n",
    "        print(\"a is oldest and c is youngest\")\n",
    "    elif int(b)<int(c):\n",
    "        print(\"a is oldest and b is youngest\")\n",
    "if int(b)>int(a) and int(b)>int(c):\n",
    "    if int(a)>int(c):\n",
    "        print(\"b is the oldest and c is the youngest\")\n",
    "    elif int(a)<int(c):\n",
    "        print(\"b is the oldest and a is the yongest\")\n",
    "if int(c)>int(a) and int(c)>int(b):\n",
    "    if int(b)>int(a):\n",
    "        print(\"a is the younest and c is the oldest\")\n",
    "    elif int(b)<int(a):\n",
    "        print(\"b is the youngest and c is the oldest\")"
   ]
  },
  {
   "cell_type": "markdown",
   "metadata": {},
   "source": [
    "8. A company decided to give a bonus of 5% to an employee\n",
    "if his/her year of service is more than 5 years. Ask user for\n",
    "their salary and year of service and print the net bonus\n",
    "amount."
   ]
  },
  {
   "cell_type": "code",
   "execution_count": 93,
   "metadata": {},
   "outputs": [
    {
     "name": "stdout",
     "output_type": "stream",
     "text": [
      "Enter the year of service6\n",
      "Enter the salary200000\n",
      "The bonus amount is 10000.0\n"
     ]
    }
   ],
   "source": [
    "n=float(input(\"Enter the year of service\"))\n",
    "sal=float(input(\"Enter the salary\"))\n",
    "if n >5:\n",
    "    bon=sal*5/100\n",
    "    print(\"The bonus amount is\",bon)\n",
    "else:\n",
    "    print(\"No Bonus\")\n",
    "    "
   ]
  },
  {
   "cell_type": "markdown",
   "metadata": {},
   "source": [
    "9. Write a program to check if a year is leap year or not.\n",
    "If a year is divisible by 4 then it is leap year but if the year is\n",
    "a century year like 2000, 1900, 2100 then it must be divisible\n",
    "by 400."
   ]
  },
  {
   "cell_type": "code",
   "execution_count": 103,
   "metadata": {},
   "outputs": [
    {
     "name": "stdout",
     "output_type": "stream",
     "text": [
      "Enter the year47\n",
      "it is not a leap year\n"
     ]
    }
   ],
   "source": [
    "year=int(input(\"Enter the year\")) \n",
    "if year % 4 == 0 or year % 400 == 0:\n",
    "    print(\"it's leap year\")\n",
    "else:\n",
    "    print(\"it is not a leap year\")\n",
    " "
   ]
  },
  {
   "cell_type": "markdown",
   "metadata": {},
   "source": [
    "10. Accept d1 and d2 as input. First, check to see that they\n",
    "are in the proper range for dice. If not, print a message.\n",
    "Otherwise, determine the outcome if this is the come out roll.\n",
    "If the sum is 7 or 11, print the winner. If the sum is 2, 3 or\n",
    "12, print loser. Otherwise print the point."
   ]
  },
  {
   "cell_type": "code",
   "execution_count": 60,
   "metadata": {},
   "outputs": [
    {
     "name": "stdout",
     "output_type": "stream",
     "text": [
      "3\n",
      "2\n",
      "The point is now 5 .\n"
     ]
    }
   ],
   "source": [
    "import random   \n",
    "a = random.randint(1, 6)\n",
    "print(a)\n",
    "b = random.randint(1, 6)\n",
    "print(b)\n",
    "sum=a+b\n",
    "  \n",
    "if sum == 7 or sum == 11:\n",
    "    print(\"You win!\")\n",
    "        \n",
    "elif roll == 2 or roll == 3 or roll == 12:\n",
    "    print (\"Sorry, you lose.\")\n",
    "else:\n",
    "        \n",
    "    print (\"The point is now\",sum, \".\")\n"
   ]
  },
  {
   "cell_type": "markdown",
   "metadata": {},
   "source": [
    "11. Write a python program to display the number of days in\n",
    "a month name from the given list of months or month\n",
    "number entered by user."
   ]
  },
  {
   "cell_type": "code",
   "execution_count": 39,
   "metadata": {},
   "outputs": [
    {
     "name": "stdout",
     "output_type": "stream",
     "text": [
      "List of the months: January, February, March, April, May, June, July, August, September, October, November, December\n",
      "Input the name of Month: 12\n",
      "\n",
      "  Month name is wrong\n"
     ]
    }
   ],
   "source": [
    "print(\"List of the months: January, February, March, April, May, June, July, August, September, October, November, December\")\n",
    "month_name = input(\"Input the name of Month: \")\n",
    "\n",
    "if month_name == \"February\":\n",
    "    print(\"\\n Number of days: 28/29 days\")\n",
    "    \n",
    "elif month_name in (\"April\", \"June\", \"September\", \"November\"):\n",
    "    print(\"\\n Number of days: 30 days\")\n",
    "    \n",
    "elif month_name in (\"January\", \"March\", \"May\", \"July\", \"August\", \"October\", \"December\"):\n",
    "    print(\"\\n Number of days: 31 day\")\n",
    "    \n",
    "else:\n",
    "    print(\"\\n  Month name is wrong\")"
   ]
  },
  {
   "cell_type": "markdown",
   "metadata": {},
   "source": [
    "12. Write a Python program to get next day of a given date."
   ]
  },
  {
   "cell_type": "code",
   "execution_count": 104,
   "metadata": {},
   "outputs": [
    {
     "name": "stdout",
     "output_type": "stream",
     "text": [
      "Input a year: 2020\n",
      "Input a month [1-12]: 12\n",
      "Input a day [1-31]: 23\n",
      "The next date is [yyyy-mm-dd] 2020-12-24.\n"
     ]
    }
   ],
   "source": [
    "year = int(input(\"Input a year: \"))\n",
    "\n",
    "if (year % 400 == 0):\n",
    "    leap_year = True\n",
    "elif (year % 100 == 0):\n",
    "    leap_year = False\n",
    "elif (year % 4 == 0):\n",
    "    leap_year = True\n",
    "else:\n",
    "    leap_year = False\n",
    "\n",
    "month = int(input(\"Input a month [1-12]: \"))\n",
    "\n",
    "if month in (1, 3, 5, 7, 8, 10, 12):\n",
    "    month_length = 31\n",
    "elif month == 2:\n",
    "    if leap_year:\n",
    "        month_length = 29\n",
    "    else:\n",
    "        month_length = 28\n",
    "else:\n",
    "    month_length = 30\n",
    "\n",
    "\n",
    "day = int(input(\"Input a day [1-31]: \"))\n",
    "\n",
    "if day < month_length:\n",
    "    day += 1\n",
    "else:\n",
    "    day = 1\n",
    "    if month == 12:\n",
    "        month = 1\n",
    "        year += 1\n",
    "    else:\n",
    "        month += 1\n",
    "print(\"The next date is [yyyy-mm-dd] %d-%d-%d.\" % (year, month, day))"
   ]
  },
  {
   "cell_type": "code",
   "execution_count": null,
   "metadata": {},
   "outputs": [],
   "source": []
  }
 ],
 "metadata": {
  "kernelspec": {
   "display_name": "Python 3",
   "language": "python",
   "name": "python3"
  },
  "language_info": {
   "codemirror_mode": {
    "name": "ipython",
    "version": 3
   },
   "file_extension": ".py",
   "mimetype": "text/x-python",
   "name": "python",
   "nbconvert_exporter": "python",
   "pygments_lexer": "ipython3",
   "version": "3.7.4"
  }
 },
 "nbformat": 4,
 "nbformat_minor": 2
}
