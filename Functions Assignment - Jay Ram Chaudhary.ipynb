{
 "cells": [
  {
   "cell_type": "markdown",
   "metadata": {},
   "source": [
    "1. Write a Python function that accepts a string and\n",
    "calculates the number of uppercase letters and lowercase\n",
    "letters."
   ]
  },
  {
   "cell_type": "code",
   "execution_count": 1,
   "metadata": {},
   "outputs": [
    {
     "name": "stdout",
     "output_type": "stream",
     "text": [
      "Enter the stringJay\n",
      "Upper count is 1\n",
      "Lower count is: 2\n"
     ]
    }
   ],
   "source": [
    "\n",
    "def cnt(str):\n",
    "    upper_count = 0\n",
    "    lower_count = 0\n",
    "    for i in str :\n",
    "        if i.isupper():\n",
    "            upper_count = upper_count + 1\n",
    "        else:\n",
    "            lower_count = lower_count + 1\n",
    "        \n",
    "    print(\"Upper count is\",upper_count)\n",
    "    print(\"Lower count is:\",lower_count)\n",
    "    \n",
    "str=input(\"Enter the string\")\n",
    "\n",
    "cnt(str)\n",
    "\n"
   ]
  },
  {
   "cell_type": "markdown",
   "metadata": {},
   "source": [
    "2. Write a Python function to create and print a list where\n",
    "the values are squares of numbers between 1 and 30 (both\n",
    "included)."
   ]
  },
  {
   "cell_type": "code",
   "execution_count": 2,
   "metadata": {},
   "outputs": [
    {
     "name": "stdout",
     "output_type": "stream",
     "text": [
      "[1, 4, 9, 16, 25, 36, 49, 64, 81, 100, 121, 144, 169, 196, 225, 256, 289, 324, 361, 400, 441, 484, 529, 576, 625, 676, 729, 784, 841, 900]\n"
     ]
    }
   ],
   "source": [
    "def val():\n",
    "    \n",
    "    lst=list()\n",
    "    for i in range(1,31):\n",
    "        lst.append(i**2)\n",
    "    print(lst)\n",
    "    \n",
    "val()       \n",
    "        \n",
    "    \n",
    "    "
   ]
  },
  {
   "cell_type": "markdown",
   "metadata": {},
   "source": [
    "3.Create a function that counts the number of elements\n",
    "within a list that are greater than 30."
   ]
  },
  {
   "cell_type": "code",
   "execution_count": 31,
   "metadata": {},
   "outputs": [
    {
     "name": "stdout",
     "output_type": "stream",
     "text": [
      "The count of number> 30 in list is 8\n"
     ]
    }
   ],
   "source": [
    "def func(list):\n",
    "    list = [10,20,30,40,50,60,70,80,90,89,99]\n",
    "    count = 0\n",
    "    for x in list:\n",
    "        if x > 30:\n",
    "            count = count + 1\n",
    "print(\"The count of number> 30 in list is\",count)\n",
    "\n",
    "func(list)\n",
    "\n"
   ]
  },
  {
   "cell_type": "markdown",
   "metadata": {},
   "source": [
    "4. Write a Python function that takes a list and returns a\n",
    "new list with unique elements of the first list."
   ]
  },
  {
   "cell_type": "code",
   "execution_count": null,
   "metadata": {},
   "outputs": [],
   "source": [
    "def unique_lst(lst):\n",
    "    x = []\n",
    "    for a in lst:\n",
    "        if a not in x:\n",
    "            x.append(a)\n",
    "    return x\n",
    "\n",
    "print(unique_lst([1,2,3,3,3,3,4,5]))"
   ]
  },
  {
   "cell_type": "markdown",
   "metadata": {},
   "source": [
    "5. Create a function showEmployee() in such a way that it\n",
    "should accept employee name, and it’s salary and display\n",
    "both, and if the salary is missing in function call it should\n",
    "show it as 9000"
   ]
  },
  {
   "cell_type": "code",
   "execution_count": null,
   "metadata": {},
   "outputs": [],
   "source": [
    "def showEmployee(name,sal=9000):\n",
    "    print(\"The Name:{} and Salary:{}\".format(name,sal))\n",
    "    \n",
    "    \n",
    "showEmployee(\"Ben\", 10000)\n",
    "showEmployee(\"Ben\")    \n",
    "    \n",
    "    \n",
    "    "
   ]
  },
  {
   "cell_type": "markdown",
   "metadata": {},
   "source": [
    "6. Write a Python program to count the even, odd\n",
    "numbers in a given array of integers using Lambda."
   ]
  },
  {
   "cell_type": "code",
   "execution_count": null,
   "metadata": {},
   "outputs": [],
   "source": [
    "lst = [1, 7, 9, 11, 17, 8, 9, 134]\n",
    "print(\"list Items:\")\n",
    "print(lst)\n",
    "odd=len(list(filter(lambda x: (x%2 != 0) ,lst)))\n",
    "even= len(list(filter(lambda x: (x%2 == 0) ,lst)))\n",
    "print(\"Number of odd numbers in the above list: \", odd)\n",
    "print(\"Number of even numbers in the above array: \", even)"
   ]
  },
  {
   "cell_type": "markdown",
   "metadata": {},
   "source": [
    "7. Write a Python program to add two given lists using\n",
    "map and lambda"
   ]
  },
  {
   "cell_type": "code",
   "execution_count": null,
   "metadata": {},
   "outputs": [],
   "source": [
    "num1 = [1, 2, 3]\n",
    "num2 = [4, 5, 6]\n",
    "print(\"Original list:\")\n",
    "print(num1)\n",
    "print(num2)\n",
    "result = map(lambda x, y: x + y, num1, num2)\n",
    "print(\"After adding two list\")\n",
    "print(list(result))"
   ]
  },
  {
   "cell_type": "markdown",
   "metadata": {},
   "source": [
    "8. Write a Python program to rearrange positive and\n",
    "negative numbers in a given array using Lambda and filter"
   ]
  },
  {
   "cell_type": "code",
   "execution_count": null,
   "metadata": {},
   "outputs": [],
   "source": [
    "array_lst = [-1, 2, -3, 5, 7, 8, -12, -10]\n",
    "print(\"Original arrays:\")\n",
    "print(array_lst)\n",
    "result1=list(filter(lambda x : x > 0,array_lst))\n",
    "result2=list(filter(lambda x : x < 0,array_lst))\n",
    "\n",
    "print(\"Arranged list:\")\n",
    "\n",
    "print(result1+result2)\n",
    "\n",
    "\n"
   ]
  },
  {
   "cell_type": "markdown",
   "metadata": {},
   "source": [
    "9. Write a Python program to filter a list of integers using\n",
    "Lambda."
   ]
  },
  {
   "cell_type": "code",
   "execution_count": null,
   "metadata": {},
   "outputs": [],
   "source": [
    "nums = [1, 2, 3, 4, 5, 6, 7, 8, 9, 10]\n",
    "print(\"list of integers:\")\n",
    "print(nums)\n",
    "print(\"Even numbers from the said list:\")\n",
    "even_nums = list(filter(lambda x: x%2 == 0, nums))\n",
    "print(even_nums)\n",
    "print(\"Odd numbers from the said list:\")\n",
    "odd_nums = list(filter(lambda x: x%2 != 0, nums))\n",
    "print(odd_nums)"
   ]
  },
  {
   "cell_type": "markdown",
   "metadata": {},
   "source": [
    "10. Write a Python program to find the intersection of two\n",
    "given arrays using Lambda and filter."
   ]
  },
  {
   "cell_type": "code",
   "execution_count": 13,
   "metadata": {},
   "outputs": [
    {
     "name": "stdout",
     "output_type": "stream",
     "text": [
      "Original list:\n",
      "[1, 2, 3, 5, 7, 8, 9, 10]\n",
      "[1, 2, 4, 8, 9]\n",
      "Intersection of the said arrays:  [1, 2, 8, 9]\n"
     ]
    }
   ],
   "source": [
    "num1 = [1, 2, 3, 5, 7, 8, 9, 10]\n",
    "num2 = [1, 2, 4, 8, 9]\n",
    "print(\"Original list:\")\n",
    "print(num1)\n",
    "print(num2)\n",
    "result = list(filter(lambda x: x in num1,num2)) \n",
    "print (\"Intersection of the said arrays: \",result)"
   ]
  },
  {
   "cell_type": "code",
   "execution_count": null,
   "metadata": {},
   "outputs": [],
   "source": []
  }
 ],
 "metadata": {
  "kernelspec": {
   "display_name": "Python 3",
   "language": "python",
   "name": "python3"
  },
  "language_info": {
   "codemirror_mode": {
    "name": "ipython",
    "version": 3
   },
   "file_extension": ".py",
   "mimetype": "text/x-python",
   "name": "python",
   "nbconvert_exporter": "python",
   "pygments_lexer": "ipython3",
   "version": "3.7.4"
  }
 },
 "nbformat": 4,
 "nbformat_minor": 2
}
