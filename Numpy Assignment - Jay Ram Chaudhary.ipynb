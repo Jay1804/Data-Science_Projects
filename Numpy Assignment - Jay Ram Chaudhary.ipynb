{
 "cells": [
  {
   "cell_type": "markdown",
   "metadata": {},
   "source": [
    "1. Create a 5X2 integer array from a range between 100 to\n",
    "200 such that the difference between each element is 10"
   ]
  },
  {
   "cell_type": "code",
   "execution_count": 1,
   "metadata": {},
   "outputs": [
    {
     "name": "stdout",
     "output_type": "stream",
     "text": [
      "[[100 110]\n",
      " [120 130]\n",
      " [140 150]\n",
      " [160 170]\n",
      " [180 190]]\n"
     ]
    }
   ],
   "source": [
    "import numpy as np\n",
    "arr = np.arange(100, 200, 10)\n",
    "arr = arr.reshape(5,2)\n",
    "print (arr)"
   ]
  },
  {
   "cell_type": "markdown",
   "metadata": {},
   "source": [
    "2. Write a NumPy program to create a 3x3x3 array filled\n",
    "with arbitrary values and find the minimum and maximum\n",
    "values."
   ]
  },
  {
   "cell_type": "code",
   "execution_count": 2,
   "metadata": {},
   "outputs": [
    {
     "name": "stdout",
     "output_type": "stream",
     "text": [
      "[[[0.56095529 0.67080795 0.15110432]\n",
      "  [0.55576504 0.54198494 0.28443202]\n",
      "  [0.65306956 0.39307886 0.46202142]]\n",
      "\n",
      " [[0.71588975 0.9289251  0.43808148]\n",
      "  [0.20367298 0.11019106 0.74205637]\n",
      "  [0.13484368 0.50006497 0.39416855]]\n",
      "\n",
      " [[0.30639356 0.50702077 0.11273358]\n",
      "  [0.20527579 0.82765813 0.7689282 ]\n",
      "  [0.07178407 0.35351955 0.89429364]]]\n",
      "\n",
      "The maximum value is : 0.9289250960554367\n",
      "\n",
      "The minimum value is : 0.07178407240091511\n"
     ]
    }
   ],
   "source": [
    "import numpy as np\n",
    "x = np.random.random((3, 3, 3))\n",
    "print(x)\n",
    "\n",
    "print(\"\\nThe maximum value is :\",x.max())\n",
    "print(\"\\nThe minimum value is :\",x.min())"
   ]
  },
  {
   "cell_type": "markdown",
   "metadata": {},
   "source": [
    "3. Write a NumPy program to create a 5x5 zero matrix\n",
    "with elements on the main diagonal equal to 1, 2, 3, 4, 5."
   ]
  },
  {
   "cell_type": "code",
   "execution_count": 3,
   "metadata": {},
   "outputs": [
    {
     "name": "stdout",
     "output_type": "stream",
     "text": [
      "[[1 0 0 0 0]\n",
      " [0 2 0 0 0]\n",
      " [0 0 3 0 0]\n",
      " [0 0 0 4 0]\n",
      " [0 0 0 0 5]]\n"
     ]
    }
   ],
   "source": [
    "import numpy as np\n",
    "x = np.diag([1, 2, 3, 4, 5])\n",
    "print(x)"
   ]
  },
  {
   "cell_type": "markdown",
   "metadata": {},
   "source": [
    "4. Given an array\n",
    "arr = np.array([0, 1, 2, 3, 4, 5, 6, 7, 8, 9\n",
    "i) Extract all odd numbers from arr\n",
    "ii) Replace all odd numbers in arr with -1"
   ]
  },
  {
   "cell_type": "code",
   "execution_count": 4,
   "metadata": {},
   "outputs": [
    {
     "name": "stdout",
     "output_type": "stream",
     "text": [
      "odd number  [1 3 5 7 9]\n",
      "[0, -1, 2, -1, 4, -1, 6, -1, 8, -1]\n"
     ]
    }
   ],
   "source": [
    "import numpy as np\n",
    "arr = np.array([0, 1, 2, 3, 4, 5, 6, 7, 8, 9])\n",
    "\n",
    "print(\"odd number \", arr[arr%2!=0])\n",
    "\n",
    "ar=[x if x%2==0 else -1 for x in arr]\n",
    "print(ar)\n",
    "\n"
   ]
  },
  {
   "cell_type": "markdown",
   "metadata": {},
   "source": [
    "5.Write a NumPy program to create a 3x3 identity matrix,\n",
    "i.e. diagonal elements are 1,the rest are 0."
   ]
  },
  {
   "cell_type": "code",
   "execution_count": 5,
   "metadata": {},
   "outputs": [
    {
     "data": {
      "text/plain": [
       "array([[1., 0., 0.],\n",
       "       [0., 1., 0.],\n",
       "       [0., 0., 1.]])"
      ]
     },
     "execution_count": 5,
     "metadata": {},
     "output_type": "execute_result"
    }
   ],
   "source": [
    "import numpy as np\n",
    "np.eye(3,3)"
   ]
  },
  {
   "cell_type": "markdown",
   "metadata": {},
   "source": [
    "6. Write a NumPy program to convert an array to a float\n",
    "type."
   ]
  },
  {
   "cell_type": "code",
   "execution_count": 6,
   "metadata": {},
   "outputs": [
    {
     "name": "stdout",
     "output_type": "stream",
     "text": [
      "Original array\n",
      "[3, 4, 7, 8]\n",
      "Array converted into float type:\n",
      "[3. 4. 7. 8.]\n"
     ]
    }
   ],
   "source": [
    "import numpy as np\n",
    "a = [3, 4, 7, 8]\n",
    "print(\"Original array\")\n",
    "print(a)\n",
    "x = np.asfarray(a)\n",
    "print(\"Array converted into float type:\")\n",
    "print(x)"
   ]
  },
  {
   "cell_type": "markdown",
   "metadata": {},
   "source": [
    "7. Write a NumPy program to generate five random\n",
    "numbers from the normal distribution."
   ]
  },
  {
   "cell_type": "code",
   "execution_count": 7,
   "metadata": {},
   "outputs": [
    {
     "name": "stdout",
     "output_type": "stream",
     "text": [
      "[-0.05551648 -0.01642459  0.66022735  0.89901749  0.37268829]\n"
     ]
    }
   ],
   "source": [
    "import numpy as np\n",
    "x = np.random.normal(size=5)\n",
    "print(x) "
   ]
  },
  {
   "cell_type": "markdown",
   "metadata": {},
   "source": [
    "8. Following is the input NumPy array delete column two\n",
    "and insert following new column in its place."
   ]
  },
  {
   "cell_type": "markdown",
   "metadata": {},
   "source": [
    "sampleArray=numpy.array([[34,43,73],[82,22,12],[53,94,\n",
    "66]])\n",
    "newColumn = numpy.array([[10,10,10]])"
   ]
  },
  {
   "cell_type": "code",
   "execution_count": 8,
   "metadata": {},
   "outputs": [
    {
     "name": "stdout",
     "output_type": "stream",
     "text": [
      "Printing Original array\n",
      "[[34 43 73]\n",
      " [82 22 12]\n",
      " [53 94 66]]\n",
      "Array after deleting column 2 on axis 1\n",
      "[[34 73]\n",
      " [82 12]\n",
      " [53 66]]\n",
      "Array after inserting column 2 on axis 1\n",
      "[[34 10 73]\n",
      " [82 10 12]\n",
      " [53 10 66]]\n"
     ]
    }
   ],
   "source": [
    "import numpy as np\n",
    "\n",
    "print(\"Printing Original array\")\n",
    "sampleArray = np.array([[34,43,73],[82,22,12],[53,94,66]]) \n",
    "print (sampleArray)\n",
    "\n",
    "print(\"Array after deleting column 2 on axis 1\")\n",
    "sampleArray = np.delete(sampleArray , 1, axis = 1) \n",
    "print (sampleArray)\n",
    "\n",
    "arr = np.array([[10,10,10]])\n",
    "\n",
    "print(\"Array after inserting column 2 on axis 1\")\n",
    "sampleArray = np.insert(sampleArray , 1, arr, axis = 1) \n",
    "print (sampleArray)"
   ]
  },
  {
   "cell_type": "markdown",
   "metadata": {},
   "source": [
    "9. Write a NumPy program to compute the multiplication\n",
    "of two given matrices."
   ]
  },
  {
   "cell_type": "code",
   "execution_count": 9,
   "metadata": {},
   "outputs": [
    {
     "data": {
      "text/plain": [
       "array([[13, 16],\n",
       "       [29, 36]])"
      ]
     },
     "execution_count": 9,
     "metadata": {},
     "output_type": "execute_result"
    }
   ],
   "source": [
    "import numpy as np\n",
    "A=np.array([[1,2],[3,4]])\n",
    "B=np.array([[3,4],[5,6]])\n",
    "A.dot(B)\n"
   ]
  },
  {
   "cell_type": "markdown",
   "metadata": {},
   "source": [
    "10. Write a NumPy program to create a random vector of\n",
    "size 10 and sort it."
   ]
  },
  {
   "cell_type": "code",
   "execution_count": 10,
   "metadata": {},
   "outputs": [
    {
     "name": "stdout",
     "output_type": "stream",
     "text": [
      "Original array:\n",
      "[0.26809842 0.3211669  0.68908018 0.05251467 0.55576398 0.70902547\n",
      " 0.56285956 0.65272943 0.82470665 0.92789867]\n",
      "Sorted array:\n",
      "[0.05251467 0.26809842 0.3211669  0.55576398 0.56285956 0.65272943\n",
      " 0.68908018 0.70902547 0.82470665 0.92789867]\n"
     ]
    }
   ],
   "source": [
    "import numpy as np\n",
    "x = np.random.random(10)\n",
    "print(\"Original array:\")\n",
    "print(x)\n",
    "x.sort()\n",
    "print(\"Sorted array:\")\n",
    "print(x)"
   ]
  },
  {
   "cell_type": "markdown",
   "metadata": {},
   "source": [
    "11. Write a NumPy program to compute the covariance\n",
    "matrix of two arrays."
   ]
  },
  {
   "cell_type": "code",
   "execution_count": 11,
   "metadata": {},
   "outputs": [
    {
     "name": "stdout",
     "output_type": "stream",
     "text": [
      "\n",
      "Original array1:\n",
      "[0 1 2]\n",
      "\n",
      "Original array2:\n",
      "[2 1 0]\n",
      "\n",
      "Covariance matrix of the arrays:\n",
      " [[ 1. -1.]\n",
      " [-1.  1.]]\n"
     ]
    }
   ],
   "source": [
    "import numpy as np\n",
    "x = np.array([0, 1, 2])\n",
    "y = np.array([2, 1, 0])\n",
    "print(\"\\nOriginal array1:\")\n",
    "print(x)\n",
    "print(\"\\nOriginal array2:\")\n",
    "print(y)\n",
    "print(\"\\nCovariance matrix of the arrays:\\n\",np.cov(x, y))"
   ]
  },
  {
   "cell_type": "markdown",
   "metadata": {},
   "source": [
    "12.Create a 4X2 integer array and Prints its :\n",
    "i)The shape of an array.\n",
    "ii) Array dimensions.\n",
    "iii) The Length of each element of the array in bytes"
   ]
  },
  {
   "cell_type": "code",
   "execution_count": 12,
   "metadata": {},
   "outputs": [
    {
     "name": "stdout",
     "output_type": "stream",
     "text": [
      "Printing Array\n",
      "[[    0     0]\n",
      " [    0 16368]\n",
      " [    0     0]\n",
      " [    0 16368]]\n",
      "Printing numpy array Attributes\n",
      "1> Array Shape is:  (4, 2)\n",
      "2>. Array dimensions are  2\n",
      "3>. Length of each element of array in bytes is  2\n"
     ]
    }
   ],
   "source": [
    "import numpy as np\n",
    "\n",
    "firstArray = np.empty([4,2], dtype = np.uint16) \n",
    "\n",
    "print(\"Printing Array\")\n",
    "print(firstArray)\n",
    "\n",
    "print(\"Printing numpy array Attributes\")\n",
    "print(\"1> Array Shape is: \", firstArray.shape)\n",
    "print(\"2>. Array dimensions are \", firstArray.ndim)\n",
    "print(\"3>. Length of each element of array in bytes is \", firstArray.itemsize)\n"
   ]
  },
  {
   "cell_type": "markdown",
   "metadata": {},
   "source": [
    "13. Write a NumPy program to concatenate element-wise\n",
    "two arrays of string."
   ]
  },
  {
   "cell_type": "code",
   "execution_count": 13,
   "metadata": {},
   "outputs": [
    {
     "name": "stdout",
     "output_type": "stream",
     "text": [
      "Array1:\n",
      "['Jay' 'Swarna']\n",
      "Array2:\n",
      "['Analyst' 'Programmer']\n",
      "new array:\n",
      "['JayAnalyst' 'SwarnaProgrammer']\n"
     ]
    }
   ],
   "source": [
    "import numpy as np\n",
    "x1 = np.array(['Jay','Swarna'], dtype=np.str)\n",
    "x2 = np.array(['Analyst','Programmer'], dtype=np.str)\n",
    "print(\"Array1:\")\n",
    "print(x1)\n",
    "print(\"Array2:\")\n",
    "print(x2)\n",
    "new_array = np.char.add(x1, x2)\n",
    "print(\"new array:\")\n",
    "print(new_array)"
   ]
  },
  {
   "cell_type": "markdown",
   "metadata": {},
   "source": [
    "14. Write a NumPy program to capitalize the first letter,\n",
    "lowercase, uppercase, swapcase, title-case of all the\n",
    "elements of a given array."
   ]
  },
  {
   "cell_type": "code",
   "execution_count": 14,
   "metadata": {},
   "outputs": [
    {
     "name": "stdout",
     "output_type": "stream",
     "text": [
      "Original Array:\n",
      "['Python' 'PHP' 'java' 'C++']\n",
      "\n",
      "Capitalized:  ['Python' 'Php' 'Java' 'C++']\n",
      "Lowered:  ['python' 'php' 'java' 'c++']\n",
      "Uppered:  ['PYTHON' 'PHP' 'JAVA' 'C++']\n",
      "Swapcased:  ['pYTHON' 'php' 'JAVA' 'c++']\n",
      "Titlecased:  ['Python' 'Php' 'Java' 'C++']\n"
     ]
    }
   ],
   "source": [
    "import numpy as np\n",
    "x = np.array(['Python', 'PHP', 'java', 'C++'], dtype=np.str)\n",
    "print(\"Original Array:\")\n",
    "print(x)\n",
    "capitalized_case = np.char.capitalize(x)\n",
    "lowered_case = np.char.lower(x)\n",
    "uppered_case = np.char.upper(x)\n",
    "swapcased_case = np.char.swapcase(x)\n",
    "titlecased_case = np.char.title(x)\n",
    "print(\"\\nCapitalized: \", capitalized_case)\n",
    "print(\"Lowered: \", lowered_case)\n",
    "print(\"Uppered: \", uppered_case)\n",
    "print(\"Swapcased: \", swapcased_case)\n",
    "print(\"Titlecased: \", titlecased_case)"
   ]
  },
  {
   "cell_type": "markdown",
   "metadata": {},
   "source": [
    "15. Write a NumPy program to convert a given array into\n",
    "a list."
   ]
  },
  {
   "cell_type": "code",
   "execution_count": 15,
   "metadata": {},
   "outputs": [
    {
     "name": "stdout",
     "output_type": "stream",
     "text": [
      "NumPy Array:\n",
      "[1 2 3]\n",
      "List: [1, 2, 3]\n"
     ]
    }
   ],
   "source": [
    "import numpy as np\n",
    "\n",
    "arr = np.array([1, 2, 3])\n",
    "\n",
    "print(f'NumPy Array:\\n{arr}') \n",
    "\n",
    "list1 = arr.tolist()\n",
    "\n",
    "print(f'List: {list1}')"
   ]
  },
  {
   "cell_type": "markdown",
   "metadata": {},
   "source": [
    "16. Write a NumPy program to compute the sum of all\n",
    "elements, sum of each column and sum of each row of a\n",
    "given array."
   ]
  },
  {
   "cell_type": "code",
   "execution_count": 16,
   "metadata": {},
   "outputs": [
    {
     "name": "stdout",
     "output_type": "stream",
     "text": [
      "Original array:\n",
      "[[0 1]\n",
      " [2 3]]\n",
      "Sum of all elements:\n",
      "6\n",
      "Sum of each column:\n",
      "[2 4]\n",
      "Sum of each row:\n",
      "[1 5]\n"
     ]
    }
   ],
   "source": [
    "import numpy as np\n",
    "x = np.array([[0,1],[2,3]])\n",
    "print(\"Original array:\")\n",
    "print(x)\n",
    "print(\"Sum of all elements:\")\n",
    "print(np.sum(x))\n",
    "print(\"Sum of each column:\")\n",
    "print(np.sum(x, axis=0))\n",
    "print(\"Sum of each row:\")\n",
    "print(np.sum(x, axis=1))"
   ]
  },
  {
   "cell_type": "markdown",
   "metadata": {},
   "source": [
    "17. Write a NumPy program to create a random 10x4\n",
    "array and extract the first five rows of the array and store\n",
    "them into a variable."
   ]
  },
  {
   "cell_type": "code",
   "execution_count": 17,
   "metadata": {},
   "outputs": [
    {
     "name": "stdout",
     "output_type": "stream",
     "text": [
      "Original array: \n",
      "[[0.85334044 0.71645414 0.04732911 0.46803161]\n",
      " [0.51981205 0.86070397 0.06180347 0.74666261]\n",
      " [0.96076425 0.1758663  0.49072376 0.42634756]\n",
      " [0.75547829 0.81050268 0.7246538  0.77404923]\n",
      " [0.658864   0.32936132 0.94023261 0.40459018]\n",
      " [0.78081998 0.82794424 0.62288927 0.11033111]\n",
      " [0.27181779 0.70106398 0.75178332 0.584043  ]\n",
      " [0.70585621 0.13450357 0.62491578 0.77667091]\n",
      " [0.02451545 0.22788395 0.90814274 0.70883463]\n",
      " [0.67046961 0.41020795 0.20069409 0.3942618 ]]\n",
      "First 5 rows of the above array:\n",
      "[[0.85334044 0.71645414 0.04732911 0.46803161]\n",
      " [0.51981205 0.86070397 0.06180347 0.74666261]\n",
      " [0.96076425 0.1758663  0.49072376 0.42634756]\n",
      " [0.75547829 0.81050268 0.7246538  0.77404923]\n",
      " [0.658864   0.32936132 0.94023261 0.40459018]]\n"
     ]
    }
   ],
   "source": [
    "import numpy as np\n",
    "x = np.random.rand(10, 4)\n",
    "print(\"Original array: \")\n",
    "print(x)\n",
    "y= x[:5, :]\n",
    "print(\"First 5 rows of the above array:\")\n",
    "print(y)"
   ]
  },
  {
   "cell_type": "markdown",
   "metadata": {},
   "source": [
    "18. Write a NumPy program to get the unique elements of\n",
    "a 1D and 2D array."
   ]
  },
  {
   "cell_type": "code",
   "execution_count": 18,
   "metadata": {},
   "outputs": [
    {
     "name": "stdout",
     "output_type": "stream",
     "text": [
      "Original 1 D array:\n",
      "[10 10 20 20 30 30]\n",
      "Unique elements of 1 D array:\n",
      "[10 20 30]\n",
      "Original 2 D array:\n",
      "[[1 1]\n",
      " [2 3]]\n",
      "Unique elements of 2 D array:\n",
      "[1 2 3]\n"
     ]
    }
   ],
   "source": [
    "import numpy as np\n",
    "x = np.array([10, 10, 20, 20, 30, 30])\n",
    "print(\"Original 1 D array:\")\n",
    "print(x)\n",
    "print(\"Unique elements of 1 D array:\")\n",
    "print(np.unique(x))\n",
    "x = np.array([[1, 1], [2, 3]])\n",
    "print(\"Original 2 D array:\")\n",
    "print(x)\n",
    "print(\"Unique elements of 2 D array:\")\n",
    "print(np.unique(x))"
   ]
  },
  {
   "cell_type": "markdown",
   "metadata": {},
   "source": [
    "19. Write a NumPy program to get the unique elements of\n",
    "an array.\n",
    "arr= [ -10,12,12,-2]"
   ]
  },
  {
   "cell_type": "code",
   "execution_count": 19,
   "metadata": {},
   "outputs": [
    {
     "name": "stdout",
     "output_type": "stream",
     "text": [
      "Original array: \n",
      "[-10  12  12  -2]\n",
      "Unique elements in an array: \n",
      "[-10  -2  12]\n"
     ]
    }
   ],
   "source": [
    "import numpy as np\n",
    "x=np.array([-10,12,12,-2])\n",
    "print(\"Original array: \")\n",
    "print(x)\n",
    "print(\"Unique elements in an array: \")\n",
    "print(np.unique(x))\n"
   ]
  },
  {
   "cell_type": "markdown",
   "metadata": {},
   "source": [
    "20. Write a NumPy program to save a given array to a text\n",
    "file and load it. You have to save and load file using\n",
    "numpy library ."
   ]
  },
  {
   "cell_type": "code",
   "execution_count": 20,
   "metadata": {},
   "outputs": [
    {
     "name": "stdout",
     "output_type": "stream",
     "text": [
      "Original array:\n",
      "[[ 0  1  2]\n",
      " [ 3  4  5]\n",
      " [ 6  7  8]\n",
      " [ 9 10 11]]\n",
      "After loading, content of the text file:\n",
      "[[ 0.  1.  2.]\n",
      " [ 3.  4.  5.]\n",
      " [ 6.  7.  8.]\n",
      " [ 9. 10. 11.]]\n"
     ]
    }
   ],
   "source": [
    "import numpy as np\n",
    "import os\n",
    "x = np.arange(12).reshape(4, 3)\n",
    "print(\"Original array:\")\n",
    "print(x)\n",
    "header = 'col1 col2 col3'\n",
    "np.savetxt('temp.txt', x, fmt=\"%d\", header=header) \n",
    "print(\"After loading, content of the text file:\")\n",
    "result = np.loadtxt('temp.txt')\n",
    "print(result)"
   ]
  },
  {
   "cell_type": "code",
   "execution_count": null,
   "metadata": {},
   "outputs": [],
   "source": []
  }
 ],
 "metadata": {
  "kernelspec": {
   "display_name": "Python 3",
   "language": "python",
   "name": "python3"
  },
  "language_info": {
   "codemirror_mode": {
    "name": "ipython",
    "version": 3
   },
   "file_extension": ".py",
   "mimetype": "text/x-python",
   "name": "python",
   "nbconvert_exporter": "python",
   "pygments_lexer": "ipython3",
   "version": "3.7.4"
  }
 },
 "nbformat": 4,
 "nbformat_minor": 2
}
