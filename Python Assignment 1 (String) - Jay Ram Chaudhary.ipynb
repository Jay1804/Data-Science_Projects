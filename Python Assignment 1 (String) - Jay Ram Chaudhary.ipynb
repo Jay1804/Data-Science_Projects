{
 "cells": [
  {
   "cell_type": "markdown",
   "metadata": {},
   "source": [
    "# Python Assignment 1\n",
    "\n",
    "- String"
   ]
  },
  {
   "cell_type": "markdown",
   "metadata": {},
   "source": [
    "1. Define different types of variables (integer, boolean,\n",
    "string, float, complex) and print their values and their\n",
    "types"
   ]
  },
  {
   "cell_type": "code",
   "execution_count": 1,
   "metadata": {},
   "outputs": [
    {
     "name": "stdout",
     "output_type": "stream",
     "text": [
      "4\n",
      "<class 'int'>\n",
      "True\n",
      "<class 'bool'>\n",
      "Jay\n",
      "<class 'str'>\n",
      "5.6\n",
      "<class 'float'>\n",
      "(3+6j)\n",
      "<class 'complex'>\n"
     ]
    }
   ],
   "source": [
    "a=4\n",
    "b=True\n",
    "c='Jay'\n",
    "d=5.6\n",
    "e=3+6j\n",
    "\n",
    "print(a)\n",
    "print(type(a))\n",
    "\n",
    "print(b)\n",
    "print(type(b))\n",
    "\n",
    "print(c)\n",
    "print(type(c))\n",
    "\n",
    "print(d)\n",
    "print(type(d))\n",
    "\n",
    "print(e)\n",
    "print(type(e))\n"
   ]
  },
  {
   "cell_type": "markdown",
   "metadata": {},
   "source": [
    "2. In the above question convert float variable into integer\n",
    "type and integer variable into str type."
   ]
  },
  {
   "cell_type": "code",
   "execution_count": 2,
   "metadata": {},
   "outputs": [
    {
     "name": "stdout",
     "output_type": "stream",
     "text": [
      "The conversion of float number  5.6 to integer is 5  and type is <class 'int'>\n"
     ]
    }
   ],
   "source": [
    "f1=int(d)\n",
    "print(\"The conversion of float number \",d,\"to integer is\",f1,\" and type is\",type(f1))"
   ]
  },
  {
   "cell_type": "code",
   "execution_count": 3,
   "metadata": {},
   "outputs": [
    {
     "name": "stdout",
     "output_type": "stream",
     "text": [
      "The conversion of integer number  4 to string is 4 and type is <class 'str'>\n"
     ]
    }
   ],
   "source": [
    "st=str(a)\n",
    "print(\"The conversion of integer number \",a,\"to string is\",st,\"and type is\",type(st))"
   ]
  },
  {
   "cell_type": "markdown",
   "metadata": {},
   "source": [
    "3. What will you get converting “abc” into boolean ?"
   ]
  },
  {
   "cell_type": "code",
   "execution_count": 4,
   "metadata": {},
   "outputs": [
    {
     "name": "stdout",
     "output_type": "stream",
     "text": [
      "The boolean value of string abc is True\n"
     ]
    }
   ],
   "source": [
    "a=\"abc\"\n",
    "b1=bool(a)\n",
    "print(\"The boolean value of string\",a,\"is\",b1)"
   ]
  },
  {
   "cell_type": "markdown",
   "metadata": {},
   "source": [
    "4. Print the substring from index 2 to index 4 for any given\n",
    "string. For example (llo) from “Hello World”"
   ]
  },
  {
   "cell_type": "code",
   "execution_count": 5,
   "metadata": {},
   "outputs": [
    {
     "name": "stdout",
     "output_type": "stream",
     "text": [
      "einter the stringjay\n",
      "The substring from the given string from index 2 to index 4 is y\n"
     ]
    }
   ],
   "source": [
    "st=input(\"einter the string\")\n",
    "print(\"The substring from the given string from index 2 to index 4 is\",st[2:5])"
   ]
  },
  {
   "cell_type": "markdown",
   "metadata": {},
   "source": [
    "5. Write a program to check a substring in a given string.\n",
    "For example 'e' is present in the word 'Umbrella'"
   ]
  },
  {
   "cell_type": "code",
   "execution_count": 6,
   "metadata": {},
   "outputs": [
    {
     "name": "stdout",
     "output_type": "stream",
     "text": [
      "einter the stringJay\n",
      "e is not present in the string\n"
     ]
    }
   ],
   "source": [
    "st=input(\"einter the string\")\n",
    "if 'e' in st:\n",
    "    print(\"e is present in string\")\n",
    "else:\n",
    "    print(\"e is not present in the string\")\n"
   ]
  },
  {
   "cell_type": "markdown",
   "metadata": {},
   "source": [
    "6. Use the correct comparison operator to check if 5 is not\n",
    "equal to 10."
   ]
  },
  {
   "cell_type": "code",
   "execution_count": 7,
   "metadata": {},
   "outputs": [
    {
     "name": "stdout",
     "output_type": "stream",
     "text": [
      "The number 5 is not equal to 10\n"
     ]
    }
   ],
   "source": [
    "a=5\n",
    "b=10\n",
    "if a!=b:\n",
    "    print(\"The number {} is not equal to {}\".format(a,b))\n",
    "else:\n",
    "    print(\"The number {} is equal to {}\".format(a,b))    \n",
    "    "
   ]
  },
  {
   "cell_type": "markdown",
   "metadata": {},
   "source": [
    "7. Write a program to get a string from the user and sort the\n",
    "words of the string in alphabetical order."
   ]
  },
  {
   "cell_type": "code",
   "execution_count": 8,
   "metadata": {},
   "outputs": [
    {
     "name": "stdout",
     "output_type": "stream",
     "text": [
      "Enter the stringJay\n",
      "Jay"
     ]
    }
   ],
   "source": [
    "st=str(input(\"Enter the string\"))\n",
    "s=sorted(st)\n",
    "for i in s:\n",
    "    print(i,end=\"\")"
   ]
  },
  {
   "cell_type": "markdown",
   "metadata": {},
   "source": [
    "8. Join two words using special characters like ‘ – ‘ ,’#’"
   ]
  },
  {
   "cell_type": "code",
   "execution_count": 9,
   "metadata": {},
   "outputs": [
    {
     "name": "stdout",
     "output_type": "stream",
     "text": [
      "Enter the stringJay Ram\n",
      "Entered string is ['Jay', 'Ram']\n",
      "The resultant string is Jay#Ram\n",
      "The resultant string is Jay_Ram\n"
     ]
    }
   ],
   "source": [
    "st=str(input(\"Enter the string\"))\n",
    "newst=st.split(\" \")\n",
    "print(\"Entered string is\",newst)\n",
    "chk=\"#\".join(newst)\n",
    "chk1=\"_\".join(newst)\n",
    "print(\"The resultant string is\",chk)\n",
    "print(\"The resultant string is\",chk1)"
   ]
  },
  {
   "cell_type": "markdown",
   "metadata": {},
   "source": [
    "9. Find all occurrences of “INDIA” in a given string\n",
    "ignoring the case.\n",
    "input_str = \"Welcome to INDIA. india is awesome."
   ]
  },
  {
   "cell_type": "code",
   "execution_count": 10,
   "metadata": {},
   "outputs": [
    {
     "name": "stdout",
     "output_type": "stream",
     "text": [
      "Enter the stringJay Ram\n",
      "0\n"
     ]
    }
   ],
   "source": [
    "st=str(input(\"Enter the string\"))\n",
    "st2=st.upper()\n",
    "print(st2.count('INDIA'))"
   ]
  },
  {
   "cell_type": "markdown",
   "metadata": {},
   "source": [
    "10. Replace first two ‘l’ with ‘n’ in ‘Hello World’"
   ]
  },
  {
   "cell_type": "code",
   "execution_count": 11,
   "metadata": {},
   "outputs": [
    {
     "name": "stdout",
     "output_type": "stream",
     "text": [
      "The new string is Henno World\n"
     ]
    }
   ],
   "source": [
    "st='Hello World'\n",
    "new=st.replace('l','n',2)\n",
    "print(\"The new string is\",new)\n",
    "    \n"
   ]
  },
  {
   "cell_type": "markdown",
   "metadata": {},
   "source": [
    "11. Write a program that takes your full name as input and\n",
    "displays the abbreviations of the first and middle names\n",
    "except the last name which is displayed as it is. For\n",
    "example, if your name is Robert Brett Roser, then the\n",
    "output should be R.B.Roser."
   ]
  },
  {
   "cell_type": "code",
   "execution_count": 14,
   "metadata": {},
   "outputs": [
    {
     "name": "stdout",
     "output_type": "stream",
     "text": [
      "Please enter your name: Jay Ram Chaudhary\n",
      "J\n",
      "R\n",
      "Chaudhary\n",
      "Hello J . R . Chaudhary\n"
     ]
    }
   ],
   "source": [
    "name=input(\"Please enter your name: \")\n",
    "name1=name.split(\" \")\n",
    "fname=name1[0]\n",
    "print(fname[0])\n",
    "mname=name1[1]\n",
    "print(mname[0])\n",
    "lname=name1[2]\n",
    "print(lname)\n",
    "\n",
    "print(\"Hello\",fname[0],\".\",mname[0],\".\",lname)\n",
    "\n",
    "# print(\"Hello {}\".format(name1))"
   ]
  },
  {
   "cell_type": "markdown",
   "metadata": {},
   "source": [
    "12. Write a program to check if a given string is a\n",
    "Palindrome.\n",
    "A palindrome reads the same from front and back e.g.-\n",
    "aba, ccaacc, mom, etc."
   ]
  },
  {
   "cell_type": "code",
   "execution_count": 21,
   "metadata": {},
   "outputs": [
    {
     "name": "stdout",
     "output_type": "stream",
     "text": [
      "Please enter string :Jay\n",
      "the reverse string is yaJ\n",
      "The string is not Palindrome\n"
     ]
    }
   ],
   "source": [
    "st=input(\"Please enter string :\")\n",
    "st2=st[::-1]\n",
    "print(\"the reverse string is\",st2)\n",
    "\n",
    "if st==st2:\n",
    "    print(\"The string is Palindrome\")\n",
    "else:\n",
    "    print(\"The string is not Palindrome\")"
   ]
  }
 ],
 "metadata": {
  "kernelspec": {
   "display_name": "Python 3",
   "language": "python",
   "name": "python3"
  },
  "language_info": {
   "codemirror_mode": {
    "name": "ipython",
    "version": 3
   },
   "file_extension": ".py",
   "mimetype": "text/x-python",
   "name": "python",
   "nbconvert_exporter": "python",
   "pygments_lexer": "ipython3",
   "version": "3.7.4"
  }
 },
 "nbformat": 4,
 "nbformat_minor": 2
}
