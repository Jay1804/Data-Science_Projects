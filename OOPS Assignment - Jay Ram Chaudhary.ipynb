{
 "cells": [
  {
   "cell_type": "markdown",
   "metadata": {},
   "source": [
    "1. Create an empty class"
   ]
  },
  {
   "cell_type": "code",
   "execution_count": 2,
   "metadata": {},
   "outputs": [
    {
     "name": "stdout",
     "output_type": "stream",
     "text": [
      "<__main__.empty object at 0x03C048D0>\n"
     ]
    }
   ],
   "source": [
    "class empty:\n",
    "    pass\n",
    "\n",
    "obj=empty()\n",
    "print(obj)"
   ]
  },
  {
   "cell_type": "markdown",
   "metadata": {},
   "source": [
    "2. Given the Dog class above retrieve the Object and class\n",
    "attributes."
   ]
  },
  {
   "cell_type": "code",
   "execution_count": 1,
   "metadata": {},
   "outputs": [
    {
     "name": "stdout",
     "output_type": "stream",
     "text": [
      "<class '__main__.Dog'>\n",
      "<class '__main__.Dog'>\n",
      "The dog is Canis familiaris ,name is Buddy and age is 9\n",
      "The dog is Canis familiaris ,name is Miles and age is 4\n"
     ]
    }
   ],
   "source": [
    "class Dog:\n",
    "    species = \"Canis familiaris\"\n",
    "    def __init__(self, name, age):\n",
    "        self.name = name\n",
    "        self.age = age\n",
    "        \n",
    "buddy = Dog(\"Buddy\", 9)\n",
    "miles = Dog(\"Miles\", 4)\n",
    "\n",
    "print(type(buddy))\n",
    "print(type(miles))\n",
    "\n",
    "\n",
    "\n",
    "print(\"The dog is {} ,name is {} and age is {}\".format(\n",
    "    buddy.species,buddy.name, buddy.age))\n",
    "\n",
    "print(\"The dog is {} ,name is {} and age is {}\".format(\n",
    "    miles.species,miles.name, miles.age))\n",
    "\n"
   ]
  },
  {
   "cell_type": "markdown",
   "metadata": {},
   "source": [
    "3. Write a Python class named Circle constructed by a radius\n",
    "and two methods which will compute the area and the\n",
    "perimeter of a circle."
   ]
  },
  {
   "cell_type": "code",
   "execution_count": 22,
   "metadata": {},
   "outputs": [
    {
     "name": "stdout",
     "output_type": "stream",
     "text": [
      "The area of the circle is 153.86\n",
      "The perimeter of the circle is 43.96\n"
     ]
    }
   ],
   "source": [
    "class circle:\n",
    "    \n",
    "    def __init__(self,r):\n",
    "        self.radius=r\n",
    "        \n",
    "    def area(self):\n",
    "        return self.radius**2*3.14\n",
    "        \n",
    "    def perimeter(self):\n",
    "        return self.radius*2*3.14\n",
    "    \n",
    "obj=circle(7)\n",
    "\n",
    "print(\"The area of the circle is\",obj.area())\n",
    "print(\"The perimeter of the circle is\",obj.perimeter())\n",
    "        "
   ]
  },
  {
   "cell_type": "markdown",
   "metadata": {},
   "source": [
    "4. Write a Python class to reverse a string word by word.\n",
    "For example:\n",
    "Input string : 'hello world'\n",
    "Expected Output : 'world hello'"
   ]
  },
  {
   "cell_type": "code",
   "execution_count": 2,
   "metadata": {},
   "outputs": [
    {
     "name": "stdout",
     "output_type": "stream",
     "text": [
      "Enter the wordsHello world\n",
      "world Hello\n"
     ]
    }
   ],
   "source": [
    "class rev:\n",
    "    def reverse_words(self, s):\n",
    "        return ' '.join(reversed(s.split()))\n",
    "\n",
    "st=input(\"Enter the words\")\n",
    "print(rev().reverse_words(st))"
   ]
  },
  {
   "cell_type": "markdown",
   "metadata": {},
   "source": [
    "5. Create a Student class and initialize it with name and roll\n",
    "number. Make methods to :\n",
    "i) Display - It should display all information of the student.\n",
    "ii)setAge - It should assign age to student\n",
    "iii) setMarks - It should assign marks to the student."
   ]
  },
  {
   "cell_type": "code",
   "execution_count": 2,
   "metadata": {},
   "outputs": [
    {
     "name": "stdout",
     "output_type": "stream",
     "text": [
      "Student name is Jay\n",
      "Student Roll is 1\n",
      "Student age is 20\n",
      "Student marks is 100\n"
     ]
    }
   ],
   "source": [
    "class Student:\n",
    "    def __init__(self,name=None,rno=None,age=None,marks=None):\n",
    "        self.name=name\n",
    "        self.age=age\n",
    "        self.rno=rno\n",
    "        self.marks=marks\n",
    "        \n",
    "    def setAge(self,age): \n",
    "        self.age=age\n",
    "        \n",
    "    def setMarks(self,marks):\n",
    "        self.marks=marks\n",
    "        \n",
    "    def display(self):\n",
    "        print(\"Student name is\",self.name)\n",
    "        print(\"Student Roll is\",self.rno)\n",
    "        print(\"Student age is\",self.age)\n",
    "        print(\"Student marks is\",self.marks)\n",
    "        \n",
    "        \n",
    "std=Student(\"Jay\",1)\n",
    "std.setAge(20)\n",
    "std.setMarks(100)\n",
    "std.display()\n",
    "\n",
    "     \n",
    "        "
   ]
  },
  {
   "cell_type": "markdown",
   "metadata": {},
   "source": [
    "6. Write a Python class named Rectangle constructed by a\n",
    "length and width and a method which will compute the area\n",
    "of a rectangle."
   ]
  },
  {
   "cell_type": "code",
   "execution_count": 4,
   "metadata": {},
   "outputs": [
    {
     "name": "stdout",
     "output_type": "stream",
     "text": [
      "The area of the rectangle is 28\n"
     ]
    }
   ],
   "source": [
    "class rect:\n",
    "    \n",
    "    def __init__(self,l,w):\n",
    "        self.l=l\n",
    "        self.w=w\n",
    "        \n",
    "    def area(self):\n",
    "        return self.l*self.w\n",
    " \n",
    "obj=rect(4,7)\n",
    "print(\"The area of the rectangle is\",obj.area())\n"
   ]
  },
  {
   "cell_type": "code",
   "execution_count": null,
   "metadata": {},
   "outputs": [],
   "source": []
  }
 ],
 "metadata": {
  "kernelspec": {
   "display_name": "Python 3",
   "language": "python",
   "name": "python3"
  },
  "language_info": {
   "codemirror_mode": {
    "name": "ipython",
    "version": 3
   },
   "file_extension": ".py",
   "mimetype": "text/x-python",
   "name": "python",
   "nbconvert_exporter": "python",
   "pygments_lexer": "ipython3",
   "version": "3.7.4"
  }
 },
 "nbformat": 4,
 "nbformat_minor": 2
}
