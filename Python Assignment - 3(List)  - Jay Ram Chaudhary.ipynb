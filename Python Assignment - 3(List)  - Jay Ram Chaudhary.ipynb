{
 "cells": [
  {
   "cell_type": "markdown",
   "metadata": {},
   "source": [
    "# Python Assignment - 3\n",
    "\n",
    "- Lists"
   ]
  },
  {
   "cell_type": "markdown",
   "metadata": {},
   "source": [
    "1. City = [‘Gurgaon’, ’Mumbai’, ’Bangalore’]\n",
    "i) Print the second item from the list.\n",
    "ii) Change the value from \"Gurgaon\" to \"Kerala\"\n",
    "iii) Remove the last element of the list."
   ]
  },
  {
   "cell_type": "code",
   "execution_count": 8,
   "metadata": {},
   "outputs": [
    {
     "name": "stdout",
     "output_type": "stream",
     "text": [
      "The second item in the list is Mumbai\n",
      "The new list is ['Kerala', 'Mumbai', 'Bangalore']\n",
      "The remaining list is ['Kerala', 'Mumbai']\n"
     ]
    }
   ],
   "source": [
    "city=['Gurgaon', 'Mumbai', 'Bangalore']\n",
    "print(\"The second item in the list is\",city[1])\n",
    "city[0]='Kerala'\n",
    "print(\"The new list is\",city)\n",
    "city.pop()\n",
    "print(\"The remaining list is\",city)\n",
    "\n",
    "\n"
   ]
  },
  {
   "cell_type": "markdown",
   "metadata": {},
   "source": [
    "2. Use negative indexing to print the last item in the list. Make\n",
    "a list by yourself."
   ]
  },
  {
   "cell_type": "code",
   "execution_count": 23,
   "metadata": {},
   "outputs": [
    {
     "data": {
      "text/plain": [
       "'gopal'"
      ]
     },
     "execution_count": 23,
     "metadata": {},
     "output_type": "execute_result"
    }
   ],
   "source": [
    "list=['jay','swarna','hari','gopal']\n",
    "list[-1]\n"
   ]
  },
  {
   "cell_type": "markdown",
   "metadata": {},
   "source": [
    "3. Use a range of indexes to print the third, fourth, and fifth\n",
    "item in the list. Make a list by yourself."
   ]
  },
  {
   "cell_type": "code",
   "execution_count": 25,
   "metadata": {},
   "outputs": [
    {
     "data": {
      "text/plain": [
       "['hari', 'gopal', 'smarika']"
      ]
     },
     "execution_count": 25,
     "metadata": {},
     "output_type": "execute_result"
    }
   ],
   "source": [
    "list=['jay','swarna','hari','gopal','smarika']\n",
    "list[2:6]"
   ]
  },
  {
   "cell_type": "markdown",
   "metadata": {},
   "source": [
    "4. Remove the last element from the city list"
   ]
  },
  {
   "cell_type": "code",
   "execution_count": 26,
   "metadata": {},
   "outputs": [
    {
     "data": {
      "text/plain": [
       "['Gurgaon', 'Mumbai', 'Bangalore']"
      ]
     },
     "execution_count": 26,
     "metadata": {},
     "output_type": "execute_result"
    }
   ],
   "source": [
    "city=['Gurgaon', 'Mumbai', 'Bangalore','Delhi']\n",
    "city.pop()\n",
    "city"
   ]
  },
  {
   "cell_type": "markdown",
   "metadata": {},
   "source": [
    "5. fruits=[‘apple’,’lichi’,’guava’,’cherry’,’mango’,’watermelo\n",
    "n’,’banana’]\n",
    "i) Add \"orange\" at the end of the above list.\n",
    "ii) Add \"lemon\" as the second item in the fruits list"
   ]
  },
  {
   "cell_type": "code",
   "execution_count": 35,
   "metadata": {},
   "outputs": [
    {
     "name": "stdout",
     "output_type": "stream",
     "text": [
      "['apple', 'lichi', 'guava', 'cherry', 'mango', 'watermelon', 'banana', 'orange']\n",
      "['apple', 'lemon', 'lichi', 'guava', 'cherry', 'mango', 'watermelon', 'banana', 'orange']\n"
     ]
    }
   ],
   "source": [
    "fruits=['apple','lichi','guava','cherry','mango','watermelon','banana']\n",
    "\n",
    "fruits.append('orange')\n",
    "print(fruits)\n",
    "fruits.insert(1,'lemon')\n",
    "print(fruits)"
   ]
  },
  {
   "cell_type": "markdown",
   "metadata": {},
   "source": [
    "6. Remove ‘cherry’ from the fruit list given above."
   ]
  },
  {
   "cell_type": "code",
   "execution_count": 36,
   "metadata": {},
   "outputs": [
    {
     "data": {
      "text/plain": [
       "['apple', 'lemon', 'lichi', 'guava', 'mango', 'watermelon', 'banana', 'orange']"
      ]
     },
     "execution_count": 36,
     "metadata": {},
     "output_type": "execute_result"
    }
   ],
   "source": [
    "fruits.remove('cherry')\n",
    "fruits"
   ]
  },
  {
   "cell_type": "markdown",
   "metadata": {},
   "source": [
    "7. Write the python program to let the user input a list of\n",
    "numbers and print the list in descending order."
   ]
  },
  {
   "cell_type": "code",
   "execution_count": 13,
   "metadata": {},
   "outputs": [
    {
     "name": "stdout",
     "output_type": "stream",
     "text": [
      "Enter number of elements : 4\n",
      "Enter the elements3\n",
      "Enter the elements1\n",
      "Enter the elements5\n",
      "Enter the elements6\n",
      "[6, 5, 3, 1]\n"
     ]
    }
   ],
   "source": [
    "lst = []\n",
    "n = int(input(\"Enter number of elements : \"))\n",
    "for i in range(0, n):\n",
    "            ele = int(input(\"Enter the elements\"))\n",
    "            lst.append(ele)\n",
    "            lst.sort(reverse=True)\n",
    "print(lst)\n",
    "    \n",
    "    "
   ]
  },
  {
   "cell_type": "markdown",
   "metadata": {},
   "source": [
    "8. Write the python program to let the user input two lists and\n",
    "combine both the lists."
   ]
  },
  {
   "cell_type": "code",
   "execution_count": 17,
   "metadata": {},
   "outputs": [
    {
     "name": "stdout",
     "output_type": "stream",
     "text": [
      "Enter number of elements in both the list:2\n",
      "Enter the elements of 1st list12\n",
      "Enter the elements of 1st list34\n",
      "[12, 34]\n",
      "Enter the elements of 2nd list23\n",
      "Enter the elements of 2nd list45\n",
      "[23, 45]\n",
      "Combined list is [(12, 23), (34, 45)]\n"
     ]
    }
   ],
   "source": [
    "lst1 =[]\n",
    "lst2=[]\n",
    "n = int(input(\"Enter number of elements in both the list:\"))\n",
    "for i in range(0, n):\n",
    "    ele = int(input(\"Enter the elements of 1st list\"))\n",
    "    lst1.append(ele)\n",
    "print(lst1)  \n",
    "\n",
    "for j in range(0, n):\n",
    "    ele = int(input(\"Enter the elements of 2nd list\"))\n",
    "    lst2.append(ele)\n",
    "print(lst2)\n",
    "\n",
    "com=list(zip(lst1,lst2))\n",
    "print(\"Combined list is\",com)\n",
    "\n"
   ]
  },
  {
   "cell_type": "markdown",
   "metadata": {},
   "source": [
    "9. List = [10, 45, 78, 11, 9, 23]. Shuffle this list."
   ]
  },
  {
   "cell_type": "code",
   "execution_count": 30,
   "metadata": {},
   "outputs": [
    {
     "name": "stdout",
     "output_type": "stream",
     "text": [
      "Shuffled list is : [45, 11, 10, 78, 23, 9]\n"
     ]
    }
   ],
   "source": [
    "import random\n",
    "lst = [10,45,78,11,9,23]\n",
    "random.shuffle(lst)\n",
    "\n",
    "print(\"Shuffled list is :\",lst)\n",
    "\n"
   ]
  },
  {
   "cell_type": "markdown",
   "metadata": {},
   "source": [
    "10. x = [10, [3.141, 20, [30, 'baz', 2.718]], 'foo']\n",
    "i) What is the expression that returns the 'z' in 'baz'?\n",
    "ii) What expression returns the list ['baz', 2.718]?"
   ]
  },
  {
   "cell_type": "code",
   "execution_count": 39,
   "metadata": {},
   "outputs": [
    {
     "name": "stdout",
     "output_type": "stream",
     "text": [
      "z\n",
      "['baz', 2.718]\n"
     ]
    }
   ],
   "source": [
    "x = [10, [3.141, 20, [30, 'baz', 2.718]], 'foo']\n",
    "print(x[1][2][1][-1])\n",
    "print(x[1][2][1:])\n"
   ]
  },
  {
   "cell_type": "markdown",
   "metadata": {},
   "source": [
    "11. Extract element 20 from the above list."
   ]
  },
  {
   "cell_type": "code",
   "execution_count": 42,
   "metadata": {},
   "outputs": [
    {
     "data": {
      "text/plain": [
       "20"
      ]
     },
     "execution_count": 42,
     "metadata": {},
     "output_type": "execute_result"
    }
   ],
   "source": [
    "x[1][1]"
   ]
  },
  {
   "cell_type": "markdown",
   "metadata": {},
   "source": [
    "12. You have a list a = [1, 2, 7, 8]\n",
    "Write a Python statement using slice assignment that will fill in\n",
    "the missing values so that a equals [1, 2, 3, 4, 5, 6, 7, 8]"
   ]
  },
  {
   "cell_type": "code",
   "execution_count": 71,
   "metadata": {},
   "outputs": [
    {
     "data": {
      "text/plain": [
       "[1, 2, 3, 4, 5, 6, 7, 8]"
      ]
     },
     "execution_count": 71,
     "metadata": {},
     "output_type": "execute_result"
    }
   ],
   "source": [
    "a = [1, 2, 7, 8]\n",
    "b=a[2:]\n",
    "b\n",
    "a[2:]=[3,4,5,6]\n",
    "a\n",
    "c=a+b\n",
    "c\n",
    "\n",
    "\n",
    "\n"
   ]
  },
  {
   "cell_type": "code",
   "execution_count": null,
   "metadata": {},
   "outputs": [],
   "source": []
  }
 ],
 "metadata": {
  "kernelspec": {
   "display_name": "Python 3",
   "language": "python",
   "name": "python3"
  },
  "language_info": {
   "codemirror_mode": {
    "name": "ipython",
    "version": 3
   },
   "file_extension": ".py",
   "mimetype": "text/x-python",
   "name": "python",
   "nbconvert_exporter": "python",
   "pygments_lexer": "ipython3",
   "version": "3.7.4"
  }
 },
 "nbformat": 4,
 "nbformat_minor": 2
}
