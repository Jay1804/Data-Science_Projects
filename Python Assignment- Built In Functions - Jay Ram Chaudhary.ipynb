{
 "cells": [
  {
   "cell_type": "markdown",
   "metadata": {},
   "source": [
    "1. What would be the output of the following:"
   ]
  },
  {
   "cell_type": "markdown",
   "metadata": {},
   "source": [
    "Ans : When we use frozenset list become immutable"
   ]
  },
  {
   "cell_type": "code",
   "execution_count": 2,
   "metadata": {},
   "outputs": [
    {
     "ename": "TypeError",
     "evalue": "'frozenset' object does not support item assignment",
     "output_type": "error",
     "traceback": [
      "\u001b[1;31m---------------------------------------------------------------------------\u001b[0m",
      "\u001b[1;31mTypeError\u001b[0m                                 Traceback (most recent call last)",
      "\u001b[1;32m<ipython-input-2-28cd990ea1ba>\u001b[0m in \u001b[0;36m<module>\u001b[1;34m\u001b[0m\n\u001b[0;32m      1\u001b[0m \u001b[0mmylist\u001b[0m \u001b[1;33m=\u001b[0m \u001b[1;33m[\u001b[0m\u001b[1;34m'apple'\u001b[0m\u001b[1;33m,\u001b[0m \u001b[1;34m'banana'\u001b[0m\u001b[1;33m,\u001b[0m \u001b[1;34m'cherry'\u001b[0m\u001b[1;33m]\u001b[0m\u001b[1;33m\u001b[0m\u001b[1;33m\u001b[0m\u001b[0m\n\u001b[0;32m      2\u001b[0m \u001b[0mx\u001b[0m \u001b[1;33m=\u001b[0m \u001b[0mfrozenset\u001b[0m\u001b[1;33m(\u001b[0m\u001b[0mmylist\u001b[0m\u001b[1;33m)\u001b[0m\u001b[1;33m\u001b[0m\u001b[1;33m\u001b[0m\u001b[0m\n\u001b[1;32m----> 3\u001b[1;33m \u001b[0mx\u001b[0m\u001b[1;33m[\u001b[0m\u001b[1;36m1\u001b[0m\u001b[1;33m]\u001b[0m \u001b[1;33m=\u001b[0m \u001b[1;34m\"strawberry\"\u001b[0m\u001b[1;33m\u001b[0m\u001b[1;33m\u001b[0m\u001b[0m\n\u001b[0m",
      "\u001b[1;31mTypeError\u001b[0m: 'frozenset' object does not support item assignment"
     ]
    }
   ],
   "source": [
    "mylist = ['apple', 'banana', 'cherry']\n",
    "x = frozenset(mylist)\n",
    "x[1] = \"strawberry\""
   ]
  },
  {
   "cell_type": "markdown",
   "metadata": {},
   "source": [
    "2. Print ‘Hi’ n times where n is the user input."
   ]
  },
  {
   "cell_type": "code",
   "execution_count": 62,
   "metadata": {},
   "outputs": [
    {
     "name": "stdout",
     "output_type": "stream",
     "text": [
      "Enter the number of times :12\n",
      "HiHiHiHiHiHiHiHiHiHiHiHi\n"
     ]
    }
   ],
   "source": [
    "def rept(n):\n",
    "    \n",
    "    repeat = \"Hi\"*n\n",
    "    print(repeat)\n",
    "\n",
    "n=int(input(\"Enter the number of times :\"))\n",
    "rept(n)\n",
    "\n"
   ]
  },
  {
   "cell_type": "markdown",
   "metadata": {},
   "source": [
    "3. Convert the following tuple into dictionary:\n",
    "tuplex = ((2, \"w\"),(3, \"r\"))"
   ]
  },
  {
   "cell_type": "code",
   "execution_count": 5,
   "metadata": {},
   "outputs": [
    {
     "name": "stdout",
     "output_type": "stream",
     "text": [
      "{'w': 2, 'r': 3}\n"
     ]
    }
   ],
   "source": [
    "tuplex = ((2, \"w\"),(3, \"r\"))\n",
    "print(dict((y, x) for x, y in tuplex))"
   ]
  },
  {
   "cell_type": "markdown",
   "metadata": {},
   "source": [
    "4. Write a function that prints square of the Maximum\n",
    "and Minimum numbers from a list."
   ]
  },
  {
   "cell_type": "code",
   "execution_count": 13,
   "metadata": {},
   "outputs": [
    {
     "name": "stdout",
     "output_type": "stream",
     "text": [
      "(5625, 25)\n"
     ]
    }
   ],
   "source": [
    "def max_min(data):\n",
    "    \n",
    "    l = data[0]\n",
    "    s = data[0]\n",
    "    for num in data:\n",
    "        if num> l:\n",
    "            l = num\n",
    "        elif num< s:\n",
    "            s = num\n",
    "    return l**2, s**2\n",
    "\n",
    "print(max_min([0, 10, 15, 40, -5, 42, 17, 28, 75]))\n"
   ]
  },
  {
   "cell_type": "markdown",
   "metadata": {},
   "source": [
    "5. Convert the list items into binary.\n",
    "lis = [4,5,7,1,2]"
   ]
  },
  {
   "cell_type": "code",
   "execution_count": 61,
   "metadata": {},
   "outputs": [
    {
     "name": "stdout",
     "output_type": "stream",
     "text": [
      "['0b100', '0b101', '0b111', '0b1', '0b10']\n"
     ]
    }
   ],
   "source": [
    "lst = [4, 5, 7, 1,2]\n",
    "def convert(lst):\n",
    "    lst1=[]\n",
    "    for i in lst:\n",
    "        bin(i)  \n",
    "        lst1.append(bin(i))\n",
    "    print(lst1)  \n",
    "    \n",
    "convert(lst)    \n",
    "      \n"
   ]
  },
  {
   "cell_type": "markdown",
   "metadata": {},
   "source": [
    "6. Take 3 inputs from a user and check :\n",
    "i) All are equal\n",
    "ii) Any of two are equal"
   ]
  },
  {
   "cell_type": "code",
   "execution_count": 48,
   "metadata": {},
   "outputs": [
    {
     "name": "stdout",
     "output_type": "stream",
     "text": [
      "Enter 1st Number:11\n",
      "Enter 2nd Number:11\n",
      "Enter 3rd Number:11\n",
      "All Inputed Numbers are Equal\n"
     ]
    }
   ],
   "source": [
    "def side(x,y,z):\n",
    "    \n",
    "    if x == y == z:\n",
    "        print(\"All Inputed Numbers are Equal\")\n",
    "    \n",
    "    elif x == y or y == z or z == x:\n",
    "        print(\"Any Two Inputed Numbers are Equal\")\n",
    "        \n",
    "    \n",
    "x = int(input(\"Enter 1st Number:\"))\n",
    "y = int(input(\"Enter 2nd Number:\"))\n",
    "z = int(input(\"Enter 3rd Number:\"))\n",
    "    \n",
    "side(x,y,z)"
   ]
  },
  {
   "cell_type": "markdown",
   "metadata": {},
   "source": [
    "7. Combine second letters of the two strings in the\n",
    "following using reduce().\n",
    "string1 = [‘Hello’,’Bye’]\n",
    "output should be ‘ey’"
   ]
  },
  {
   "cell_type": "code",
   "execution_count": 30,
   "metadata": {},
   "outputs": [
    {
     "data": {
      "text/plain": [
       "'ey'"
      ]
     },
     "execution_count": 30,
     "metadata": {},
     "output_type": "execute_result"
    }
   ],
   "source": [
    "import functools as ft\n",
    "string1 = ['Hello','Bye']\n",
    "bk = ft.reduce(lambda x, y: x[1]+y[1],string1)\n",
    "bk\n"
   ]
  },
  {
   "cell_type": "markdown",
   "metadata": {},
   "source": [
    "8. Write a Python program to sort a list of dictionaries\n",
    "using Lambda"
   ]
  },
  {
   "cell_type": "code",
   "execution_count": 136,
   "metadata": {},
   "outputs": [
    {
     "name": "stdout",
     "output_type": "stream",
     "text": [
      "Original list of items in dict :\n",
      "[{'item': 'Pen', 'color': 'Black'}, {'item': 'Pencil', 'color': 'Gold'}, {'item': 'Copy', 'color': 'Purple'}]\n",
      "\n",
      "Sorting the List of items in dictionaries :\n",
      "[{'item': 'Pen', 'color': 'Black'}, {'item': 'Pencil', 'color': 'Gold'}, {'item': 'Copy', 'color': 'Purple'}]\n"
     ]
    }
   ],
   "source": [
    "items = [{'item':'Pen','color':'Black'},\n",
    "          {'item':'Pencil','color':'Gold'},\n",
    "          {'item':'Copy','color':'Purple'}\n",
    "         ]\n",
    "print(\"Original list of items in dict :\")\n",
    "print(items)\n",
    "\n",
    "sorted_items = sorted(items, key = lambda x: x['color'])\n",
    "print(\"\\nSorting the List of items in dictionaries :\")\n",
    "print(sorted_items)"
   ]
  },
  {
   "cell_type": "markdown",
   "metadata": {},
   "source": [
    "9. Create a list a=[1,2,3,4,5,6,7,8,9,10] and use map()\n",
    "and filter() to check if the list contains odd number(s)\n",
    "and square them."
   ]
  },
  {
   "cell_type": "code",
   "execution_count": 7,
   "metadata": {},
   "outputs": [
    {
     "data": {
      "text/plain": [
       "[1, 9, 25, 49, 81]"
      ]
     },
     "execution_count": 7,
     "metadata": {},
     "output_type": "execute_result"
    }
   ],
   "source": [
    "a = [1, 2, 3, 4, 5, 6,7,8,9,10]\n",
    "list(filter(lambda x : x % 2 != 0,map(lambda x : x**2,a)))"
   ]
  },
  {
   "cell_type": "markdown",
   "metadata": {},
   "source": [
    "10. From the following list take 2 as a step parameter in\n",
    "range() and reverse the list you get.\n",
    "a = [‘a’,1,2,’b’,’c’,3,4,5,6]"
   ]
  },
  {
   "cell_type": "code",
   "execution_count": 63,
   "metadata": {},
   "outputs": [
    {
     "data": {
      "text/plain": [
       "[6, 4, 'c', 2, 'a']"
      ]
     },
     "execution_count": 63,
     "metadata": {},
     "output_type": "execute_result"
    }
   ],
   "source": [
    "b=[]\n",
    "a = ['a',1,2,'b','c',3,4,5,6]\n",
    "for i in range(0,len(a),2):\n",
    "    b.append(a[i])\n",
    "b[::-1]\n",
    " \n",
    "    \n",
    "    "
   ]
  },
  {
   "cell_type": "code",
   "execution_count": null,
   "metadata": {},
   "outputs": [],
   "source": []
  }
 ],
 "metadata": {
  "kernelspec": {
   "display_name": "Python 3",
   "language": "python",
   "name": "python3"
  },
  "language_info": {
   "codemirror_mode": {
    "name": "ipython",
    "version": 3
   },
   "file_extension": ".py",
   "mimetype": "text/x-python",
   "name": "python",
   "nbconvert_exporter": "python",
   "pygments_lexer": "ipython3",
   "version": "3.7.4"
  }
 },
 "nbformat": 4,
 "nbformat_minor": 2
}
