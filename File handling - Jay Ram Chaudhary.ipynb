{
 "cells": [
  {
   "cell_type": "markdown",
   "metadata": {},
   "source": [
    "# File handling"
   ]
  },
  {
   "cell_type": "markdown",
   "metadata": {},
   "source": [
    "Note : Use a sample file to answer the below questions."
   ]
  },
  {
   "cell_type": "markdown",
   "metadata": {},
   "source": [
    "1. Write a python code to open a file for appending data."
   ]
  },
  {
   "cell_type": "code",
   "execution_count": 2,
   "metadata": {},
   "outputs": [],
   "source": [
    "file1=open(\"test1.txt\",'a')\n",
    "file1.write(\"\\nI have appended the context\")\n",
    "file1.close()"
   ]
  },
  {
   "cell_type": "markdown",
   "metadata": {},
   "source": [
    "2. How would you read two characters from a file ."
   ]
  },
  {
   "cell_type": "code",
   "execution_count": 1,
   "metadata": {},
   "outputs": [
    {
     "data": {
      "text/plain": [
       "'Ja'"
      ]
     },
     "execution_count": 1,
     "metadata": {},
     "output_type": "execute_result"
    }
   ],
   "source": [
    "file1=open(\"test1.txt\",'r')\n",
    "file1.readline(2)\n",
    "\n"
   ]
  },
  {
   "cell_type": "markdown",
   "metadata": {},
   "source": [
    "3. Which command is used to read the entire content of\n",
    "the file as a string."
   ]
  },
  {
   "cell_type": "code",
   "execution_count": 18,
   "metadata": {},
   "outputs": [
    {
     "name": "stdout",
     "output_type": "stream",
     "text": [
      "Jay Ram Chaudhary\n",
      "\n",
      "\n",
      "\n",
      "I have appended the context\n"
     ]
    }
   ],
   "source": [
    "file1=open(\"test1.txt\",'r')\n",
    "for i in file1:\n",
    "    print(i)"
   ]
  },
  {
   "cell_type": "code",
   "execution_count": 5,
   "metadata": {},
   "outputs": [
    {
     "data": {
      "text/plain": [
       "'Jay Ram Chaudhary\\n\\nI have appended the context\\nI have appended the context'"
      ]
     },
     "execution_count": 5,
     "metadata": {},
     "output_type": "execute_result"
    }
   ],
   "source": [
    "# read()\n",
    "file1=open(\"test1.txt\",'r')\n",
    "file1.read()"
   ]
  },
  {
   "cell_type": "markdown",
   "metadata": {},
   "source": [
    "4. How to read the next line of the file ."
   ]
  },
  {
   "cell_type": "code",
   "execution_count": 23,
   "metadata": {},
   "outputs": [
    {
     "data": {
      "text/plain": [
       "'I have appended the context\\n'"
      ]
     },
     "execution_count": 23,
     "metadata": {},
     "output_type": "execute_result"
    }
   ],
   "source": [
    "file1=open(\"test1.txt\",'r')\n",
    "file1.readlines()[1]"
   ]
  },
  {
   "cell_type": "markdown",
   "metadata": {},
   "source": [
    "5. Which command is used to open a file for reading in\n",
    "binary format only?"
   ]
  },
  {
   "cell_type": "code",
   "execution_count": 24,
   "metadata": {},
   "outputs": [
    {
     "data": {
      "text/plain": [
       "b'Jay Ram Chaudhary\\r\\n\\\\I have appended the context\\r\\nI have appended the context'"
      ]
     },
     "execution_count": 24,
     "metadata": {},
     "output_type": "execute_result"
    }
   ],
   "source": [
    "file = open(\"sample.bin\", \"rb\")\n",
    "file.read()"
   ]
  },
  {
   "cell_type": "markdown",
   "metadata": {},
   "source": [
    " Ans ----> \"rb\" mode opens the file in binary format for reading"
   ]
  },
  {
   "cell_type": "markdown",
   "metadata": {},
   "source": [
    "# Exception handling"
   ]
  },
  {
   "cell_type": "markdown",
   "metadata": {},
   "source": [
    "1. When will the else part of try-except-else be\n",
    "executed?\n",
    "\n",
    "a) always\n",
    "b) when an exception occurs\n",
    "c) when no exception occurs\n",
    "d) when an exception occurs in to except block"
   ]
  },
  {
   "cell_type": "markdown",
   "metadata": {},
   "source": [
    "Ans--->c) when no exception occurs"
   ]
  },
  {
   "cell_type": "markdown",
   "metadata": {},
   "source": [
    "2. Can one block of except statements handle multiple\n",
    "exception?\n",
    "a) yes, like except TypeError, SyntaxError [,...]\n",
    "b) yes, like except [TypeError, SyntaxError]\n",
    "c) no\n",
    "d) none of the mentioned"
   ]
  },
  {
   "cell_type": "markdown",
   "metadata": {},
   "source": [
    "Ans---->d) none of the mentioned"
   ]
  },
  {
   "cell_type": "markdown",
   "metadata": {},
   "source": [
    "3. What will be the output of the following Python code?\n",
    "def foo():\n",
    "    try:\n",
    "        print(1)\n",
    "    finally:\n",
    "        print(2)\n",
    "foo()\n",
    "\n",
    "a) 1 2\n",
    "b) 1\n",
    "c) 2\n",
    "d) none of the mentioned"
   ]
  },
  {
   "cell_type": "markdown",
   "metadata": {},
   "source": [
    "Ans---->a) 1 2"
   ]
  },
  {
   "cell_type": "markdown",
   "metadata": {},
   "source": [
    "4 .What is the output of the following program?\n",
    "\n",
    "value = [1, 2, 3, 4, 5]\n",
    "try:\n",
    "    value = value[5]/0\n",
    "except (IndexError, ZeroDivisionError):\n",
    "    print('Errors occurred ', end = '')\n",
    "else:\n",
    "    print('GFG ', end = '')\n",
    "finally:\n",
    "    print('Done ', end = '')\n",
    "\n",
    "a) Compilation error\n",
    "b) Runtime error\n",
    "c) Errors occurred GFG Done\n",
    "d) Errors occurred Done\n"
   ]
  },
  {
   "cell_type": "markdown",
   "metadata": {},
   "source": [
    "ans ---> d) Errors occurred Done"
   ]
  },
  {
   "cell_type": "markdown",
   "metadata": {},
   "source": [
    "5.. What is the output of the following program?\n",
    "data = 50\n",
    "try:\n",
    "    data = data/0\n",
    "except ZeroDivisionError:\n",
    "    print('Cannot divide by 0 ', end = '')\n",
    "else:\n",
    "    print('Division successful ', end = '')\n",
    "try:\n",
    "    data = data/5\n",
    "except:\n",
    "    print('Inside except block ', end = '')\n",
    "else:\n",
    "    print('DONE', end = '')\n",
    "    \n",
    "a) Cannot divide by 0 DONE\n",
    "b) Cannot divide by 0\n",
    "c) Cannot divide by 0 Inside except block DONE\n",
    "d) Cannot divide by 0 Inside except block"
   ]
  },
  {
   "cell_type": "markdown",
   "metadata": {},
   "source": [
    "Ans--->a) Cannot divide by 0 DONE"
   ]
  },
  {
   "cell_type": "code",
   "execution_count": null,
   "metadata": {},
   "outputs": [],
   "source": []
  }
 ],
 "metadata": {
  "kernelspec": {
   "display_name": "Python 3",
   "language": "python",
   "name": "python3"
  },
  "language_info": {
   "codemirror_mode": {
    "name": "ipython",
    "version": 3
   },
   "file_extension": ".py",
   "mimetype": "text/x-python",
   "name": "python",
   "nbconvert_exporter": "python",
   "pygments_lexer": "ipython3",
   "version": "3.7.4"
  }
 },
 "nbformat": 4,
 "nbformat_minor": 2
}
